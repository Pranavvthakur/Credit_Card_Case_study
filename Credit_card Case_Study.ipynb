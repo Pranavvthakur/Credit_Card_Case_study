{
 "cells": [
  {
   "cell_type": "code",
   "execution_count": 4,
   "id": "32fd4a44-862d-47e0-8d66-1f9940feaa98",
   "metadata": {},
   "outputs": [],
   "source": [
    "# Importing All Libraries\n",
    "import pandas as pd\n",
    "import numpy as np\n",
    "import matplotlib.pyplot as plt\n",
    "import seaborn as sns\n",
    "import statistics"
   ]
  },
  {
   "cell_type": "code",
   "execution_count": 123,
   "id": "0197eb98-48d4-4f7f-ab8d-45659afd5cc4",
   "metadata": {},
   "outputs": [],
   "source": [
    "#Gives to all rows everytime command is run without trancating\n",
    "pd.set_option('display.max_rows', None)"
   ]
  },
  {
   "cell_type": "code",
   "execution_count": 115,
   "id": "cbb20662-5e61-4527-9c8e-894676a7a422",
   "metadata": {},
   "outputs": [],
   "source": [
    "# to reset the above condition\n",
    "pd.reset_option('display.max_rows')"
   ]
  },
  {
   "cell_type": "markdown",
   "id": "c01e7b21-3784-452e-ba45-eb607f42e086",
   "metadata": {},
   "source": [
    "# Importing Files"
   ]
  },
  {
   "cell_type": "code",
   "execution_count": 397,
   "id": "21b3066a-96c3-43d5-9939-2e693bfe3b0c",
   "metadata": {},
   "outputs": [],
   "source": [
    "# Importing File application data \n",
    "df_ad=pd.read_csv(r'C:\\Users\\prana\\Downloads\\application_data.csv')"
   ]
  },
  {
   "cell_type": "code",
   "execution_count": 265,
   "id": "611d05fe-644c-4e22-b388-2374660b0973",
   "metadata": {},
   "outputs": [],
   "source": [
    "# Importing file previous application\n",
    "df=pd.read_csv(r'C:\\Users\\prana\\Downloads\\previous_application.csv')"
   ]
  },
  {
   "cell_type": "code",
   "execution_count": 266,
   "id": "1aa2984f-3b96-4be0-9131-6fa0edea0cf6",
   "metadata": {},
   "outputs": [
    {
     "data": {
      "text/html": [
       "<div>\n",
       "<style scoped>\n",
       "    .dataframe tbody tr th:only-of-type {\n",
       "        vertical-align: middle;\n",
       "    }\n",
       "\n",
       "    .dataframe tbody tr th {\n",
       "        vertical-align: top;\n",
       "    }\n",
       "\n",
       "    .dataframe thead th {\n",
       "        text-align: right;\n",
       "    }\n",
       "</style>\n",
       "<table border=\"1\" class=\"dataframe\">\n",
       "  <thead>\n",
       "    <tr style=\"text-align: right;\">\n",
       "      <th></th>\n",
       "      <th>SK_ID_PREV</th>\n",
       "      <th>SK_ID_CURR</th>\n",
       "      <th>NAME_CONTRACT_TYPE</th>\n",
       "      <th>AMT_ANNUITY</th>\n",
       "      <th>AMT_APPLICATION</th>\n",
       "      <th>AMT_CREDIT</th>\n",
       "      <th>AMT_DOWN_PAYMENT</th>\n",
       "      <th>AMT_GOODS_PRICE</th>\n",
       "      <th>WEEKDAY_APPR_PROCESS_START</th>\n",
       "      <th>HOUR_APPR_PROCESS_START</th>\n",
       "      <th>...</th>\n",
       "      <th>NAME_SELLER_INDUSTRY</th>\n",
       "      <th>CNT_PAYMENT</th>\n",
       "      <th>NAME_YIELD_GROUP</th>\n",
       "      <th>PRODUCT_COMBINATION</th>\n",
       "      <th>DAYS_FIRST_DRAWING</th>\n",
       "      <th>DAYS_FIRST_DUE</th>\n",
       "      <th>DAYS_LAST_DUE_1ST_VERSION</th>\n",
       "      <th>DAYS_LAST_DUE</th>\n",
       "      <th>DAYS_TERMINATION</th>\n",
       "      <th>NFLAG_INSURED_ON_APPROVAL</th>\n",
       "    </tr>\n",
       "  </thead>\n",
       "  <tbody>\n",
       "    <tr>\n",
       "      <th>0</th>\n",
       "      <td>2030495</td>\n",
       "      <td>271877</td>\n",
       "      <td>Consumer loans</td>\n",
       "      <td>1730.430</td>\n",
       "      <td>17145.0</td>\n",
       "      <td>17145.0</td>\n",
       "      <td>0.0</td>\n",
       "      <td>17145.0</td>\n",
       "      <td>SATURDAY</td>\n",
       "      <td>15</td>\n",
       "      <td>...</td>\n",
       "      <td>Connectivity</td>\n",
       "      <td>12.0</td>\n",
       "      <td>middle</td>\n",
       "      <td>POS mobile with interest</td>\n",
       "      <td>365243.0</td>\n",
       "      <td>-42.0</td>\n",
       "      <td>300.0</td>\n",
       "      <td>-42.0</td>\n",
       "      <td>-37.0</td>\n",
       "      <td>0.0</td>\n",
       "    </tr>\n",
       "    <tr>\n",
       "      <th>1</th>\n",
       "      <td>2802425</td>\n",
       "      <td>108129</td>\n",
       "      <td>Cash loans</td>\n",
       "      <td>25188.615</td>\n",
       "      <td>607500.0</td>\n",
       "      <td>679671.0</td>\n",
       "      <td>NaN</td>\n",
       "      <td>607500.0</td>\n",
       "      <td>THURSDAY</td>\n",
       "      <td>11</td>\n",
       "      <td>...</td>\n",
       "      <td>XNA</td>\n",
       "      <td>36.0</td>\n",
       "      <td>low_action</td>\n",
       "      <td>Cash X-Sell: low</td>\n",
       "      <td>365243.0</td>\n",
       "      <td>-134.0</td>\n",
       "      <td>916.0</td>\n",
       "      <td>365243.0</td>\n",
       "      <td>365243.0</td>\n",
       "      <td>1.0</td>\n",
       "    </tr>\n",
       "    <tr>\n",
       "      <th>2</th>\n",
       "      <td>2523466</td>\n",
       "      <td>122040</td>\n",
       "      <td>Cash loans</td>\n",
       "      <td>15060.735</td>\n",
       "      <td>112500.0</td>\n",
       "      <td>136444.5</td>\n",
       "      <td>NaN</td>\n",
       "      <td>112500.0</td>\n",
       "      <td>TUESDAY</td>\n",
       "      <td>11</td>\n",
       "      <td>...</td>\n",
       "      <td>XNA</td>\n",
       "      <td>12.0</td>\n",
       "      <td>high</td>\n",
       "      <td>Cash X-Sell: high</td>\n",
       "      <td>365243.0</td>\n",
       "      <td>-271.0</td>\n",
       "      <td>59.0</td>\n",
       "      <td>365243.0</td>\n",
       "      <td>365243.0</td>\n",
       "      <td>1.0</td>\n",
       "    </tr>\n",
       "    <tr>\n",
       "      <th>3</th>\n",
       "      <td>2819243</td>\n",
       "      <td>176158</td>\n",
       "      <td>Cash loans</td>\n",
       "      <td>47041.335</td>\n",
       "      <td>450000.0</td>\n",
       "      <td>470790.0</td>\n",
       "      <td>NaN</td>\n",
       "      <td>450000.0</td>\n",
       "      <td>MONDAY</td>\n",
       "      <td>7</td>\n",
       "      <td>...</td>\n",
       "      <td>XNA</td>\n",
       "      <td>12.0</td>\n",
       "      <td>middle</td>\n",
       "      <td>Cash X-Sell: middle</td>\n",
       "      <td>365243.0</td>\n",
       "      <td>-482.0</td>\n",
       "      <td>-152.0</td>\n",
       "      <td>-182.0</td>\n",
       "      <td>-177.0</td>\n",
       "      <td>1.0</td>\n",
       "    </tr>\n",
       "    <tr>\n",
       "      <th>4</th>\n",
       "      <td>1784265</td>\n",
       "      <td>202054</td>\n",
       "      <td>Cash loans</td>\n",
       "      <td>31924.395</td>\n",
       "      <td>337500.0</td>\n",
       "      <td>404055.0</td>\n",
       "      <td>NaN</td>\n",
       "      <td>337500.0</td>\n",
       "      <td>THURSDAY</td>\n",
       "      <td>9</td>\n",
       "      <td>...</td>\n",
       "      <td>XNA</td>\n",
       "      <td>24.0</td>\n",
       "      <td>high</td>\n",
       "      <td>Cash Street: high</td>\n",
       "      <td>NaN</td>\n",
       "      <td>NaN</td>\n",
       "      <td>NaN</td>\n",
       "      <td>NaN</td>\n",
       "      <td>NaN</td>\n",
       "      <td>NaN</td>\n",
       "    </tr>\n",
       "  </tbody>\n",
       "</table>\n",
       "<p>5 rows × 37 columns</p>\n",
       "</div>"
      ],
      "text/plain": [
       "   SK_ID_PREV  SK_ID_CURR NAME_CONTRACT_TYPE  AMT_ANNUITY  AMT_APPLICATION  \\\n",
       "0     2030495      271877     Consumer loans     1730.430          17145.0   \n",
       "1     2802425      108129         Cash loans    25188.615         607500.0   \n",
       "2     2523466      122040         Cash loans    15060.735         112500.0   \n",
       "3     2819243      176158         Cash loans    47041.335         450000.0   \n",
       "4     1784265      202054         Cash loans    31924.395         337500.0   \n",
       "\n",
       "   AMT_CREDIT  AMT_DOWN_PAYMENT  AMT_GOODS_PRICE WEEKDAY_APPR_PROCESS_START  \\\n",
       "0     17145.0               0.0          17145.0                   SATURDAY   \n",
       "1    679671.0               NaN         607500.0                   THURSDAY   \n",
       "2    136444.5               NaN         112500.0                    TUESDAY   \n",
       "3    470790.0               NaN         450000.0                     MONDAY   \n",
       "4    404055.0               NaN         337500.0                   THURSDAY   \n",
       "\n",
       "   HOUR_APPR_PROCESS_START  ... NAME_SELLER_INDUSTRY  CNT_PAYMENT  \\\n",
       "0                       15  ...         Connectivity         12.0   \n",
       "1                       11  ...                  XNA         36.0   \n",
       "2                       11  ...                  XNA         12.0   \n",
       "3                        7  ...                  XNA         12.0   \n",
       "4                        9  ...                  XNA         24.0   \n",
       "\n",
       "   NAME_YIELD_GROUP       PRODUCT_COMBINATION  DAYS_FIRST_DRAWING  \\\n",
       "0            middle  POS mobile with interest            365243.0   \n",
       "1        low_action          Cash X-Sell: low            365243.0   \n",
       "2              high         Cash X-Sell: high            365243.0   \n",
       "3            middle       Cash X-Sell: middle            365243.0   \n",
       "4              high         Cash Street: high                 NaN   \n",
       "\n",
       "  DAYS_FIRST_DUE DAYS_LAST_DUE_1ST_VERSION  DAYS_LAST_DUE DAYS_TERMINATION  \\\n",
       "0          -42.0                     300.0          -42.0            -37.0   \n",
       "1         -134.0                     916.0       365243.0         365243.0   \n",
       "2         -271.0                      59.0       365243.0         365243.0   \n",
       "3         -482.0                    -152.0         -182.0           -177.0   \n",
       "4            NaN                       NaN            NaN              NaN   \n",
       "\n",
       "  NFLAG_INSURED_ON_APPROVAL  \n",
       "0                       0.0  \n",
       "1                       1.0  \n",
       "2                       1.0  \n",
       "3                       1.0  \n",
       "4                       NaN  \n",
       "\n",
       "[5 rows x 37 columns]"
      ]
     },
     "execution_count": 266,
     "metadata": {},
     "output_type": "execute_result"
    }
   ],
   "source": [
    "df.head()"
   ]
  },
  {
   "cell_type": "code",
   "execution_count": 269,
   "id": "d6acda1f-99b8-4f68-9544-28ee1dfdc054",
   "metadata": {},
   "outputs": [
    {
     "name": "stdout",
     "output_type": "stream",
     "text": [
      "<class 'pandas.core.frame.DataFrame'>\n",
      "RangeIndex: 1670214 entries, 0 to 1670213\n",
      "Data columns (total 37 columns):\n",
      " #   Column                       Non-Null Count    Dtype  \n",
      "---  ------                       --------------    -----  \n",
      " 0   SK_ID_PREV                   1670214 non-null  int64  \n",
      " 1   SK_ID_CURR                   1670214 non-null  int64  \n",
      " 2   NAME_CONTRACT_TYPE           1670214 non-null  object \n",
      " 3   AMT_ANNUITY                  1297979 non-null  float64\n",
      " 4   AMT_APPLICATION              1670214 non-null  float64\n",
      " 5   AMT_CREDIT                   1670213 non-null  float64\n",
      " 6   AMT_DOWN_PAYMENT             774370 non-null   float64\n",
      " 7   AMT_GOODS_PRICE              1284699 non-null  float64\n",
      " 8   WEEKDAY_APPR_PROCESS_START   1670214 non-null  object \n",
      " 9   HOUR_APPR_PROCESS_START      1670214 non-null  int64  \n",
      " 10  FLAG_LAST_APPL_PER_CONTRACT  1670214 non-null  object \n",
      " 11  NFLAG_LAST_APPL_IN_DAY       1670214 non-null  int64  \n",
      " 12  RATE_DOWN_PAYMENT            774370 non-null   float64\n",
      " 13  RATE_INTEREST_PRIMARY        5951 non-null     float64\n",
      " 14  RATE_INTEREST_PRIVILEGED     5951 non-null     float64\n",
      " 15  NAME_CASH_LOAN_PURPOSE       1670214 non-null  object \n",
      " 16  NAME_CONTRACT_STATUS         1670214 non-null  object \n",
      " 17  DAYS_DECISION                1670214 non-null  int64  \n",
      " 18  NAME_PAYMENT_TYPE            1670214 non-null  object \n",
      " 19  CODE_REJECT_REASON           1670214 non-null  object \n",
      " 20  NAME_TYPE_SUITE              849809 non-null   object \n",
      " 21  NAME_CLIENT_TYPE             1670214 non-null  object \n",
      " 22  NAME_GOODS_CATEGORY          1670214 non-null  object \n",
      " 23  NAME_PORTFOLIO               1670214 non-null  object \n",
      " 24  NAME_PRODUCT_TYPE            1670214 non-null  object \n",
      " 25  CHANNEL_TYPE                 1670214 non-null  object \n",
      " 26  SELLERPLACE_AREA             1670214 non-null  int64  \n",
      " 27  NAME_SELLER_INDUSTRY         1670214 non-null  object \n",
      " 28  CNT_PAYMENT                  1297984 non-null  float64\n",
      " 29  NAME_YIELD_GROUP             1670214 non-null  object \n",
      " 30  PRODUCT_COMBINATION          1669868 non-null  object \n",
      " 31  DAYS_FIRST_DRAWING           997149 non-null   float64\n",
      " 32  DAYS_FIRST_DUE               997149 non-null   float64\n",
      " 33  DAYS_LAST_DUE_1ST_VERSION    997149 non-null   float64\n",
      " 34  DAYS_LAST_DUE                997149 non-null   float64\n",
      " 35  DAYS_TERMINATION             997149 non-null   float64\n",
      " 36  NFLAG_INSURED_ON_APPROVAL    997149 non-null   float64\n",
      "dtypes: float64(15), int64(6), object(16)\n",
      "memory usage: 471.5+ MB\n"
     ]
    }
   ],
   "source": [
    "# Information of columns \n",
    "df.info()"
   ]
  },
  {
   "cell_type": "code",
   "execution_count": 271,
   "id": "3f420f91-5d8d-4d3f-bece-47f4e844bddb",
   "metadata": {},
   "outputs": [
    {
     "data": {
      "text/html": [
       "<div>\n",
       "<style scoped>\n",
       "    .dataframe tbody tr th:only-of-type {\n",
       "        vertical-align: middle;\n",
       "    }\n",
       "\n",
       "    .dataframe tbody tr th {\n",
       "        vertical-align: top;\n",
       "    }\n",
       "\n",
       "    .dataframe thead th {\n",
       "        text-align: right;\n",
       "    }\n",
       "</style>\n",
       "<table border=\"1\" class=\"dataframe\">\n",
       "  <thead>\n",
       "    <tr style=\"text-align: right;\">\n",
       "      <th></th>\n",
       "      <th>SK_ID_PREV</th>\n",
       "      <th>SK_ID_CURR</th>\n",
       "      <th>AMT_ANNUITY</th>\n",
       "      <th>AMT_APPLICATION</th>\n",
       "      <th>AMT_CREDIT</th>\n",
       "      <th>AMT_DOWN_PAYMENT</th>\n",
       "      <th>AMT_GOODS_PRICE</th>\n",
       "      <th>HOUR_APPR_PROCESS_START</th>\n",
       "      <th>NFLAG_LAST_APPL_IN_DAY</th>\n",
       "      <th>RATE_DOWN_PAYMENT</th>\n",
       "      <th>...</th>\n",
       "      <th>RATE_INTEREST_PRIVILEGED</th>\n",
       "      <th>DAYS_DECISION</th>\n",
       "      <th>SELLERPLACE_AREA</th>\n",
       "      <th>CNT_PAYMENT</th>\n",
       "      <th>DAYS_FIRST_DRAWING</th>\n",
       "      <th>DAYS_FIRST_DUE</th>\n",
       "      <th>DAYS_LAST_DUE_1ST_VERSION</th>\n",
       "      <th>DAYS_LAST_DUE</th>\n",
       "      <th>DAYS_TERMINATION</th>\n",
       "      <th>NFLAG_INSURED_ON_APPROVAL</th>\n",
       "    </tr>\n",
       "  </thead>\n",
       "  <tbody>\n",
       "    <tr>\n",
       "      <th>count</th>\n",
       "      <td>1.670214e+06</td>\n",
       "      <td>1.670214e+06</td>\n",
       "      <td>1.297979e+06</td>\n",
       "      <td>1.670214e+06</td>\n",
       "      <td>1.670213e+06</td>\n",
       "      <td>7.743700e+05</td>\n",
       "      <td>1.284699e+06</td>\n",
       "      <td>1.670214e+06</td>\n",
       "      <td>1.670214e+06</td>\n",
       "      <td>774370.000000</td>\n",
       "      <td>...</td>\n",
       "      <td>5951.000000</td>\n",
       "      <td>1.670214e+06</td>\n",
       "      <td>1.670214e+06</td>\n",
       "      <td>1.297984e+06</td>\n",
       "      <td>997149.000000</td>\n",
       "      <td>997149.000000</td>\n",
       "      <td>997149.000000</td>\n",
       "      <td>997149.000000</td>\n",
       "      <td>997149.000000</td>\n",
       "      <td>997149.000000</td>\n",
       "    </tr>\n",
       "    <tr>\n",
       "      <th>mean</th>\n",
       "      <td>1.923089e+06</td>\n",
       "      <td>2.783572e+05</td>\n",
       "      <td>1.595512e+04</td>\n",
       "      <td>1.752339e+05</td>\n",
       "      <td>1.961140e+05</td>\n",
       "      <td>6.697402e+03</td>\n",
       "      <td>2.278473e+05</td>\n",
       "      <td>1.248418e+01</td>\n",
       "      <td>9.964675e-01</td>\n",
       "      <td>0.079637</td>\n",
       "      <td>...</td>\n",
       "      <td>0.773503</td>\n",
       "      <td>-8.806797e+02</td>\n",
       "      <td>3.139511e+02</td>\n",
       "      <td>1.605408e+01</td>\n",
       "      <td>342209.855039</td>\n",
       "      <td>13826.269337</td>\n",
       "      <td>33767.774054</td>\n",
       "      <td>76582.403064</td>\n",
       "      <td>81992.343838</td>\n",
       "      <td>0.332570</td>\n",
       "    </tr>\n",
       "    <tr>\n",
       "      <th>std</th>\n",
       "      <td>5.325980e+05</td>\n",
       "      <td>1.028148e+05</td>\n",
       "      <td>1.478214e+04</td>\n",
       "      <td>2.927798e+05</td>\n",
       "      <td>3.185746e+05</td>\n",
       "      <td>2.092150e+04</td>\n",
       "      <td>3.153966e+05</td>\n",
       "      <td>3.334028e+00</td>\n",
       "      <td>5.932963e-02</td>\n",
       "      <td>0.107823</td>\n",
       "      <td>...</td>\n",
       "      <td>0.100879</td>\n",
       "      <td>7.790997e+02</td>\n",
       "      <td>7.127443e+03</td>\n",
       "      <td>1.456729e+01</td>\n",
       "      <td>88916.115834</td>\n",
       "      <td>72444.869708</td>\n",
       "      <td>106857.034789</td>\n",
       "      <td>149647.415123</td>\n",
       "      <td>153303.516729</td>\n",
       "      <td>0.471134</td>\n",
       "    </tr>\n",
       "    <tr>\n",
       "      <th>min</th>\n",
       "      <td>1.000001e+06</td>\n",
       "      <td>1.000010e+05</td>\n",
       "      <td>0.000000e+00</td>\n",
       "      <td>0.000000e+00</td>\n",
       "      <td>0.000000e+00</td>\n",
       "      <td>-9.000000e-01</td>\n",
       "      <td>0.000000e+00</td>\n",
       "      <td>0.000000e+00</td>\n",
       "      <td>0.000000e+00</td>\n",
       "      <td>-0.000015</td>\n",
       "      <td>...</td>\n",
       "      <td>0.373150</td>\n",
       "      <td>-2.922000e+03</td>\n",
       "      <td>-1.000000e+00</td>\n",
       "      <td>0.000000e+00</td>\n",
       "      <td>-2922.000000</td>\n",
       "      <td>-2892.000000</td>\n",
       "      <td>-2801.000000</td>\n",
       "      <td>-2889.000000</td>\n",
       "      <td>-2874.000000</td>\n",
       "      <td>0.000000</td>\n",
       "    </tr>\n",
       "    <tr>\n",
       "      <th>25%</th>\n",
       "      <td>1.461857e+06</td>\n",
       "      <td>1.893290e+05</td>\n",
       "      <td>6.321780e+03</td>\n",
       "      <td>1.872000e+04</td>\n",
       "      <td>2.416050e+04</td>\n",
       "      <td>0.000000e+00</td>\n",
       "      <td>5.084100e+04</td>\n",
       "      <td>1.000000e+01</td>\n",
       "      <td>1.000000e+00</td>\n",
       "      <td>0.000000</td>\n",
       "      <td>...</td>\n",
       "      <td>0.715645</td>\n",
       "      <td>-1.300000e+03</td>\n",
       "      <td>-1.000000e+00</td>\n",
       "      <td>6.000000e+00</td>\n",
       "      <td>365243.000000</td>\n",
       "      <td>-1628.000000</td>\n",
       "      <td>-1242.000000</td>\n",
       "      <td>-1314.000000</td>\n",
       "      <td>-1270.000000</td>\n",
       "      <td>0.000000</td>\n",
       "    </tr>\n",
       "    <tr>\n",
       "      <th>50%</th>\n",
       "      <td>1.923110e+06</td>\n",
       "      <td>2.787145e+05</td>\n",
       "      <td>1.125000e+04</td>\n",
       "      <td>7.104600e+04</td>\n",
       "      <td>8.054100e+04</td>\n",
       "      <td>1.638000e+03</td>\n",
       "      <td>1.123200e+05</td>\n",
       "      <td>1.200000e+01</td>\n",
       "      <td>1.000000e+00</td>\n",
       "      <td>0.051605</td>\n",
       "      <td>...</td>\n",
       "      <td>0.835095</td>\n",
       "      <td>-5.810000e+02</td>\n",
       "      <td>3.000000e+00</td>\n",
       "      <td>1.200000e+01</td>\n",
       "      <td>365243.000000</td>\n",
       "      <td>-831.000000</td>\n",
       "      <td>-361.000000</td>\n",
       "      <td>-537.000000</td>\n",
       "      <td>-499.000000</td>\n",
       "      <td>0.000000</td>\n",
       "    </tr>\n",
       "    <tr>\n",
       "      <th>75%</th>\n",
       "      <td>2.384280e+06</td>\n",
       "      <td>3.675140e+05</td>\n",
       "      <td>2.065842e+04</td>\n",
       "      <td>1.803600e+05</td>\n",
       "      <td>2.164185e+05</td>\n",
       "      <td>7.740000e+03</td>\n",
       "      <td>2.340000e+05</td>\n",
       "      <td>1.500000e+01</td>\n",
       "      <td>1.000000e+00</td>\n",
       "      <td>0.108909</td>\n",
       "      <td>...</td>\n",
       "      <td>0.852537</td>\n",
       "      <td>-2.800000e+02</td>\n",
       "      <td>8.200000e+01</td>\n",
       "      <td>2.400000e+01</td>\n",
       "      <td>365243.000000</td>\n",
       "      <td>-411.000000</td>\n",
       "      <td>129.000000</td>\n",
       "      <td>-74.000000</td>\n",
       "      <td>-44.000000</td>\n",
       "      <td>1.000000</td>\n",
       "    </tr>\n",
       "    <tr>\n",
       "      <th>max</th>\n",
       "      <td>2.845382e+06</td>\n",
       "      <td>4.562550e+05</td>\n",
       "      <td>4.180581e+05</td>\n",
       "      <td>6.905160e+06</td>\n",
       "      <td>6.905160e+06</td>\n",
       "      <td>3.060045e+06</td>\n",
       "      <td>6.905160e+06</td>\n",
       "      <td>2.300000e+01</td>\n",
       "      <td>1.000000e+00</td>\n",
       "      <td>1.000000</td>\n",
       "      <td>...</td>\n",
       "      <td>1.000000</td>\n",
       "      <td>-1.000000e+00</td>\n",
       "      <td>4.000000e+06</td>\n",
       "      <td>8.400000e+01</td>\n",
       "      <td>365243.000000</td>\n",
       "      <td>365243.000000</td>\n",
       "      <td>365243.000000</td>\n",
       "      <td>365243.000000</td>\n",
       "      <td>365243.000000</td>\n",
       "      <td>1.000000</td>\n",
       "    </tr>\n",
       "  </tbody>\n",
       "</table>\n",
       "<p>8 rows × 21 columns</p>\n",
       "</div>"
      ],
      "text/plain": [
       "         SK_ID_PREV    SK_ID_CURR   AMT_ANNUITY  AMT_APPLICATION  \\\n",
       "count  1.670214e+06  1.670214e+06  1.297979e+06     1.670214e+06   \n",
       "mean   1.923089e+06  2.783572e+05  1.595512e+04     1.752339e+05   \n",
       "std    5.325980e+05  1.028148e+05  1.478214e+04     2.927798e+05   \n",
       "min    1.000001e+06  1.000010e+05  0.000000e+00     0.000000e+00   \n",
       "25%    1.461857e+06  1.893290e+05  6.321780e+03     1.872000e+04   \n",
       "50%    1.923110e+06  2.787145e+05  1.125000e+04     7.104600e+04   \n",
       "75%    2.384280e+06  3.675140e+05  2.065842e+04     1.803600e+05   \n",
       "max    2.845382e+06  4.562550e+05  4.180581e+05     6.905160e+06   \n",
       "\n",
       "         AMT_CREDIT  AMT_DOWN_PAYMENT  AMT_GOODS_PRICE  \\\n",
       "count  1.670213e+06      7.743700e+05     1.284699e+06   \n",
       "mean   1.961140e+05      6.697402e+03     2.278473e+05   \n",
       "std    3.185746e+05      2.092150e+04     3.153966e+05   \n",
       "min    0.000000e+00     -9.000000e-01     0.000000e+00   \n",
       "25%    2.416050e+04      0.000000e+00     5.084100e+04   \n",
       "50%    8.054100e+04      1.638000e+03     1.123200e+05   \n",
       "75%    2.164185e+05      7.740000e+03     2.340000e+05   \n",
       "max    6.905160e+06      3.060045e+06     6.905160e+06   \n",
       "\n",
       "       HOUR_APPR_PROCESS_START  NFLAG_LAST_APPL_IN_DAY  RATE_DOWN_PAYMENT  \\\n",
       "count             1.670214e+06            1.670214e+06      774370.000000   \n",
       "mean              1.248418e+01            9.964675e-01           0.079637   \n",
       "std               3.334028e+00            5.932963e-02           0.107823   \n",
       "min               0.000000e+00            0.000000e+00          -0.000015   \n",
       "25%               1.000000e+01            1.000000e+00           0.000000   \n",
       "50%               1.200000e+01            1.000000e+00           0.051605   \n",
       "75%               1.500000e+01            1.000000e+00           0.108909   \n",
       "max               2.300000e+01            1.000000e+00           1.000000   \n",
       "\n",
       "       ...  RATE_INTEREST_PRIVILEGED  DAYS_DECISION  SELLERPLACE_AREA  \\\n",
       "count  ...               5951.000000   1.670214e+06      1.670214e+06   \n",
       "mean   ...                  0.773503  -8.806797e+02      3.139511e+02   \n",
       "std    ...                  0.100879   7.790997e+02      7.127443e+03   \n",
       "min    ...                  0.373150  -2.922000e+03     -1.000000e+00   \n",
       "25%    ...                  0.715645  -1.300000e+03     -1.000000e+00   \n",
       "50%    ...                  0.835095  -5.810000e+02      3.000000e+00   \n",
       "75%    ...                  0.852537  -2.800000e+02      8.200000e+01   \n",
       "max    ...                  1.000000  -1.000000e+00      4.000000e+06   \n",
       "\n",
       "        CNT_PAYMENT  DAYS_FIRST_DRAWING  DAYS_FIRST_DUE  \\\n",
       "count  1.297984e+06       997149.000000   997149.000000   \n",
       "mean   1.605408e+01       342209.855039    13826.269337   \n",
       "std    1.456729e+01        88916.115834    72444.869708   \n",
       "min    0.000000e+00        -2922.000000    -2892.000000   \n",
       "25%    6.000000e+00       365243.000000    -1628.000000   \n",
       "50%    1.200000e+01       365243.000000     -831.000000   \n",
       "75%    2.400000e+01       365243.000000     -411.000000   \n",
       "max    8.400000e+01       365243.000000   365243.000000   \n",
       "\n",
       "       DAYS_LAST_DUE_1ST_VERSION  DAYS_LAST_DUE  DAYS_TERMINATION  \\\n",
       "count              997149.000000  997149.000000     997149.000000   \n",
       "mean                33767.774054   76582.403064      81992.343838   \n",
       "std                106857.034789  149647.415123     153303.516729   \n",
       "min                 -2801.000000   -2889.000000      -2874.000000   \n",
       "25%                 -1242.000000   -1314.000000      -1270.000000   \n",
       "50%                  -361.000000    -537.000000       -499.000000   \n",
       "75%                   129.000000     -74.000000        -44.000000   \n",
       "max                365243.000000  365243.000000     365243.000000   \n",
       "\n",
       "       NFLAG_INSURED_ON_APPROVAL  \n",
       "count              997149.000000  \n",
       "mean                    0.332570  \n",
       "std                     0.471134  \n",
       "min                     0.000000  \n",
       "25%                     0.000000  \n",
       "50%                     0.000000  \n",
       "75%                     1.000000  \n",
       "max                     1.000000  \n",
       "\n",
       "[8 rows x 21 columns]"
      ]
     },
     "execution_count": 271,
     "metadata": {},
     "output_type": "execute_result"
    }
   ],
   "source": [
    "#### # Descriptive Analysis \n",
    "numer= df.describe()\n",
    "numerical= numer.columns\n",
    "numer"
   ]
  },
  {
   "cell_type": "code",
   "execution_count": 273,
   "id": "eb87b3a2-6619-417b-b5f9-26faf71e3994",
   "metadata": {},
   "outputs": [
    {
     "data": {
      "text/plain": [
       "Index(['NAME_CONTRACT_TYPE', 'WEEKDAY_APPR_PROCESS_START',\n",
       "       'FLAG_LAST_APPL_PER_CONTRACT', 'NAME_CASH_LOAN_PURPOSE',\n",
       "       'NAME_CONTRACT_STATUS', 'NAME_PAYMENT_TYPE', 'CODE_REJECT_REASON',\n",
       "       'NAME_TYPE_SUITE', 'NAME_CLIENT_TYPE', 'NAME_GOODS_CATEGORY',\n",
       "       'NAME_PORTFOLIO', 'NAME_PRODUCT_TYPE', 'CHANNEL_TYPE',\n",
       "       'NAME_SELLER_INDUSTRY', 'NAME_YIELD_GROUP', 'PRODUCT_COMBINATION'],\n",
       "      dtype='object')"
      ]
     },
     "execution_count": 273,
     "metadata": {},
     "output_type": "execute_result"
    }
   ],
   "source": [
    "# Categorical Columns \n",
    "categorical = df.select_dtypes(include = object).columns\n",
    "categorical"
   ]
  },
  {
   "cell_type": "code",
   "execution_count": 275,
   "id": "04dc2249-36a7-483c-a010-f108eadee185",
   "metadata": {},
   "outputs": [
    {
     "data": {
      "text/plain": [
       "(1670214, 37)"
      ]
     },
     "execution_count": 275,
     "metadata": {},
     "output_type": "execute_result"
    }
   ],
   "source": [
    "# Number of Rows and Columns \n",
    "df.shape"
   ]
  },
  {
   "cell_type": "code",
   "execution_count": 277,
   "id": "5bf1802d-1131-4bc6-84aa-3ee8110cb428",
   "metadata": {},
   "outputs": [
    {
     "data": {
      "text/plain": [
       "SK_ID_PREV                           0\n",
       "SK_ID_CURR                           0\n",
       "NAME_CONTRACT_TYPE                   0\n",
       "AMT_ANNUITY                     372235\n",
       "AMT_APPLICATION                      0\n",
       "AMT_CREDIT                           1\n",
       "AMT_DOWN_PAYMENT                895844\n",
       "AMT_GOODS_PRICE                 385515\n",
       "WEEKDAY_APPR_PROCESS_START           0\n",
       "HOUR_APPR_PROCESS_START              0\n",
       "FLAG_LAST_APPL_PER_CONTRACT          0\n",
       "NFLAG_LAST_APPL_IN_DAY               0\n",
       "RATE_DOWN_PAYMENT               895844\n",
       "RATE_INTEREST_PRIMARY          1664263\n",
       "RATE_INTEREST_PRIVILEGED       1664263\n",
       "NAME_CASH_LOAN_PURPOSE               0\n",
       "NAME_CONTRACT_STATUS                 0\n",
       "DAYS_DECISION                        0\n",
       "NAME_PAYMENT_TYPE                    0\n",
       "CODE_REJECT_REASON                   0\n",
       "NAME_TYPE_SUITE                 820405\n",
       "NAME_CLIENT_TYPE                     0\n",
       "NAME_GOODS_CATEGORY                  0\n",
       "NAME_PORTFOLIO                       0\n",
       "NAME_PRODUCT_TYPE                    0\n",
       "CHANNEL_TYPE                         0\n",
       "SELLERPLACE_AREA                     0\n",
       "NAME_SELLER_INDUSTRY                 0\n",
       "CNT_PAYMENT                     372230\n",
       "NAME_YIELD_GROUP                     0\n",
       "PRODUCT_COMBINATION                346\n",
       "DAYS_FIRST_DRAWING              673065\n",
       "DAYS_FIRST_DUE                  673065\n",
       "DAYS_LAST_DUE_1ST_VERSION       673065\n",
       "DAYS_LAST_DUE                   673065\n",
       "DAYS_TERMINATION                673065\n",
       "NFLAG_INSURED_ON_APPROVAL       673065\n",
       "dtype: int64"
      ]
     },
     "execution_count": 277,
     "metadata": {},
     "output_type": "execute_result"
    }
   ],
   "source": [
    "# Number of Null Values in Each Column \n",
    "df.isnull().sum()"
   ]
  },
  {
   "cell_type": "code",
   "execution_count": 279,
   "id": "dcca6d7d-39f7-470a-bac5-d576d103897e",
   "metadata": {},
   "outputs": [
    {
     "data": {
      "text/plain": [
       "SK_ID_PREV                      0.000000\n",
       "SK_ID_CURR                      0.000000\n",
       "NAME_CONTRACT_TYPE              0.000000\n",
       "AMT_ANNUITY                    22.286665\n",
       "AMT_APPLICATION                 0.000000\n",
       "AMT_CREDIT                      0.000060\n",
       "AMT_DOWN_PAYMENT               53.636480\n",
       "AMT_GOODS_PRICE                23.081773\n",
       "WEEKDAY_APPR_PROCESS_START      0.000000\n",
       "HOUR_APPR_PROCESS_START         0.000000\n",
       "FLAG_LAST_APPL_PER_CONTRACT     0.000000\n",
       "NFLAG_LAST_APPL_IN_DAY          0.000000\n",
       "RATE_DOWN_PAYMENT              53.636480\n",
       "RATE_INTEREST_PRIMARY          99.643698\n",
       "RATE_INTEREST_PRIVILEGED       99.643698\n",
       "NAME_CASH_LOAN_PURPOSE          0.000000\n",
       "NAME_CONTRACT_STATUS            0.000000\n",
       "DAYS_DECISION                   0.000000\n",
       "NAME_PAYMENT_TYPE               0.000000\n",
       "CODE_REJECT_REASON              0.000000\n",
       "NAME_TYPE_SUITE                49.119754\n",
       "NAME_CLIENT_TYPE                0.000000\n",
       "NAME_GOODS_CATEGORY             0.000000\n",
       "NAME_PORTFOLIO                  0.000000\n",
       "NAME_PRODUCT_TYPE               0.000000\n",
       "CHANNEL_TYPE                    0.000000\n",
       "SELLERPLACE_AREA                0.000000\n",
       "NAME_SELLER_INDUSTRY            0.000000\n",
       "CNT_PAYMENT                    22.286366\n",
       "NAME_YIELD_GROUP                0.000000\n",
       "PRODUCT_COMBINATION             0.020716\n",
       "DAYS_FIRST_DRAWING             40.298129\n",
       "DAYS_FIRST_DUE                 40.298129\n",
       "DAYS_LAST_DUE_1ST_VERSION      40.298129\n",
       "DAYS_LAST_DUE                  40.298129\n",
       "DAYS_TERMINATION               40.298129\n",
       "NFLAG_INSURED_ON_APPROVAL      40.298129\n",
       "dtype: float64"
      ]
     },
     "execution_count": 279,
     "metadata": {},
     "output_type": "execute_result"
    }
   ],
   "source": [
    "#percentage of missing values\n",
    "(df.isnull().sum()/len(df.index))*100"
   ]
  },
  {
   "cell_type": "markdown",
   "id": "2721aea5-dc5f-4add-af4b-f6bb3c761e20",
   "metadata": {},
   "source": [
    "# Findings :\n",
    "-Way too many columns have missing data"
   ]
  },
  {
   "cell_type": "markdown",
   "id": "fcd7d4d0-50bf-4486-b92f-a52ae9ab8dc2",
   "metadata": {},
   "source": [
    "# OPTIONS:\n",
    "- Impute values in columns having % of missing values < 40\n",
    "- Delete columns having more than %40 missing values as they cannot help in analysis."
   ]
  },
  {
   "cell_type": "markdown",
   "id": "7f883a1a-4405-4b08-acec-af1bab54240a",
   "metadata": {},
   "source": [
    "# Calculating Percentage of Null Values \n",
    "null = (df.isnull().sum()/len(df.index))*100 \n",
    "null1 = null[np.where(null>0)[0]]"
   ]
  },
  {
   "cell_type": "code",
   "execution_count": 286,
   "id": "d65a005f-4680-4315-8812-06720f1b50e1",
   "metadata": {},
   "outputs": [
    {
     "name": "stderr",
     "output_type": "stream",
     "text": [
      "C:\\Users\\prana\\AppData\\Local\\Temp\\ipykernel_16160\\3348726020.py:3: FutureWarning: Series.__getitem__ treating keys as positions is deprecated. In a future version, integer keys will always be treated as labels (consistent with DataFrame behavior). To access a value by position, use `ser.iloc[pos]`\n",
      "  null1 = null[np.where(null>0)[0]]\n"
     ]
    }
   ],
   "source": [
    "# Calculating Percentage of Null Values \n",
    "null = (df.isnull().sum()/len(df.index))*100 \n",
    "null1 = null[np.where(null>0)[0]]"
   ]
  },
  {
   "cell_type": "code",
   "execution_count": 288,
   "id": "7d093121-37a8-428e-ba95-395417c76514",
   "metadata": {},
   "outputs": [
    {
     "data": {
      "text/plain": [
       "41.571529157341516"
      ]
     },
     "execution_count": 288,
     "metadata": {},
     "output_type": "execute_result"
    }
   ],
   "source": [
    "# Calculating mean of null Percentage \n",
    "mean =  np.mean(null1.values)\n",
    "mean"
   ]
  },
  {
   "cell_type": "code",
   "execution_count": 290,
   "id": "710c59db-1e15-41f1-9ad7-eff950e44de1",
   "metadata": {},
   "outputs": [
    {
     "name": "stderr",
     "output_type": "stream",
     "text": [
      "C:\\Users\\prana\\AppData\\Local\\Temp\\ipykernel_16160\\161189611.py:2: FutureWarning: Series.__getitem__ treating keys as positions is deprecated. In a future version, integer keys will always be treated as labels (consistent with DataFrame behavior). To access a value by position, use `ser.iloc[pos]`\n",
      "  drop_columns = null[np.where(null>40)[0]]\n"
     ]
    },
    {
     "data": {
      "text/plain": [
       "(1670214, 26)"
      ]
     },
     "execution_count": 290,
     "metadata": {},
     "output_type": "execute_result"
    }
   ],
   "source": [
    "# Dropping Columns with null values > 40% as means was 41% \n",
    "drop_columns = null[np.where(null>40)[0]]\n",
    "df1 = df.drop(drop_columns.index,axis=1)\n",
    "df1.shape"
   ]
  },
  {
   "cell_type": "code",
   "execution_count": 292,
   "id": "1000e716-8fa1-471e-8480-42230a76786a",
   "metadata": {},
   "outputs": [
    {
     "data": {
      "text/plain": [
       "SK_ID_PREV                      0.000000\n",
       "SK_ID_CURR                      0.000000\n",
       "NAME_CONTRACT_TYPE              0.000000\n",
       "AMT_ANNUITY                    22.286665\n",
       "AMT_APPLICATION                 0.000000\n",
       "AMT_CREDIT                      0.000060\n",
       "AMT_GOODS_PRICE                23.081773\n",
       "WEEKDAY_APPR_PROCESS_START      0.000000\n",
       "HOUR_APPR_PROCESS_START         0.000000\n",
       "FLAG_LAST_APPL_PER_CONTRACT     0.000000\n",
       "NFLAG_LAST_APPL_IN_DAY          0.000000\n",
       "NAME_CASH_LOAN_PURPOSE          0.000000\n",
       "NAME_CONTRACT_STATUS            0.000000\n",
       "DAYS_DECISION                   0.000000\n",
       "NAME_PAYMENT_TYPE               0.000000\n",
       "CODE_REJECT_REASON              0.000000\n",
       "NAME_CLIENT_TYPE                0.000000\n",
       "NAME_GOODS_CATEGORY             0.000000\n",
       "NAME_PORTFOLIO                  0.000000\n",
       "NAME_PRODUCT_TYPE               0.000000\n",
       "CHANNEL_TYPE                    0.000000\n",
       "SELLERPLACE_AREA                0.000000\n",
       "NAME_SELLER_INDUSTRY            0.000000\n",
       "CNT_PAYMENT                    22.286366\n",
       "NAME_YIELD_GROUP                0.000000\n",
       "PRODUCT_COMBINATION             0.020716\n",
       "dtype: float64"
      ]
     },
     "execution_count": 292,
     "metadata": {},
     "output_type": "execute_result"
    }
   ],
   "source": [
    "# Percentage of null values in new dataframe \n",
    "(df1.isnull().sum()/len(df1.index))*100"
   ]
  },
  {
   "cell_type": "markdown",
   "id": "93e9c27d-7aaf-4f6e-b906-357dbef87f2a",
   "metadata": {},
   "source": [
    "# TREATING MISSING VALUES (Column wise)"
   ]
  },
  {
   "cell_type": "markdown",
   "id": "e07731a2-8b51-4005-a6eb-b877e14354a9",
   "metadata": {},
   "source": [
    "#### COLUMN: [AMT_ANNUITY]"
   ]
  },
  {
   "cell_type": "code",
   "execution_count": 296,
   "id": "6a07d0af-ba78-4434-8144-465b478f140d",
   "metadata": {},
   "outputs": [
    {
     "data": {
      "text/plain": [
       "372235"
      ]
     },
     "execution_count": 296,
     "metadata": {},
     "output_type": "execute_result"
    }
   ],
   "source": [
    "df1[\"AMT_ANNUITY\"].isnull().sum()"
   ]
  },
  {
   "cell_type": "code",
   "execution_count": 298,
   "id": "db6d25ff-9cfc-4c2e-85c0-e54d2952a813",
   "metadata": {},
   "outputs": [
    {
     "data": {
      "image/png": "[encoded data removed]",
      "text/plain": [
       "<Figure size 640x480 with 1 Axes>"
      ]
     },
     "metadata": {},
     "output_type": "display_data"
    }
   ],
   "source": [
    "#plotting a histogram to see data visually\n",
    "\n",
    "plt.hist(df1[\"AMT_ANNUITY\"])\n",
    "plt.show()"
   ]
  },
  {
   "cell_type": "code",
   "execution_count": 300,
   "id": "a99beae2-35f4-4fdc-bff1-f042c618d05f",
   "metadata": {},
   "outputs": [
    {
     "data": {
      "text/plain": [
       "count   1297979.00\n",
       "mean      15955.12\n",
       "std       14782.14\n",
       "min           0.00\n",
       "25%        6321.78\n",
       "50%       11250.00\n",
       "75%       20658.42\n",
       "max      418058.15\n",
       "Name: AMT_ANNUITY, dtype: float64"
      ]
     },
     "execution_count": 300,
     "metadata": {},
     "output_type": "execute_result"
    }
   ],
   "source": [
    "pd.options.display.float_format = \"{:.2f}\".format  #to display in decimal form\n",
    "df1[\"AMT_ANNUITY\"].describe()"
   ]
  },
  {
   "cell_type": "code",
   "execution_count": 302,
   "id": "868a7dd6-b50e-4686-b32e-116a05b050db",
   "metadata": {},
   "outputs": [],
   "source": [
    "# Calculating Q1 and Q3 to see where the majority of the data lies \n",
    "# Filter non-null values\n",
    "\n",
    "annuity = df1['AMT_ANNUITY'][df1['AMT_ANNUITY'].notnull()]"
   ]
  },
  {
   "cell_type": "code",
   "execution_count": 304,
   "id": "dc2ef1b9-561a-4312-8df7-b2784bf1c9a4",
   "metadata": {},
   "outputs": [
    {
     "data": {
      "text/plain": [
       "6321.78"
      ]
     },
     "execution_count": 304,
     "metadata": {},
     "output_type": "execute_result"
    }
   ],
   "source": [
    "# Calculate the 25th percentile (Q1)\n",
    "Q1 = np.percentile(annuity, 25)\n",
    "Q1"
   ]
  },
  {
   "cell_type": "code",
   "execution_count": 306,
   "id": "4d14258c-b58c-4353-b50b-81626dc62ae0",
   "metadata": {},
   "outputs": [
    {
     "data": {
      "text/plain": [
       "20658.42"
      ]
     },
     "execution_count": 306,
     "metadata": {},
     "output_type": "execute_result"
    }
   ],
   "source": [
    "# Calculate the 25th percentile (Q3)\n",
    "Q3 = np.percentile(annuity,75)\n",
    "Q3"
   ]
  },
  {
   "cell_type": "code",
   "execution_count": 308,
   "id": "44b3d3f5-0a4c-4726-b85e-d9100e5bd980",
   "metadata": {},
   "outputs": [
    {
     "data": {
      "text/plain": [
       "(648981, 26)"
      ]
     },
     "execution_count": 308,
     "metadata": {},
     "output_type": "execute_result"
    }
   ],
   "source": [
    "# Filter rows where AMT_ANNUITY is between Q1 and Q3\n",
    "filtered_df = df1[(df1['AMT_ANNUITY'] > Q1) & (df1['AMT_ANNUITY'] < Q3)]\n",
    "filtered_df.shape"
   ]
  },
  {
   "cell_type": "code",
   "execution_count": 310,
   "id": "c9986e28-9998-451c-a95b-1054fc1eddc4",
   "metadata": {},
   "outputs": [],
   "source": [
    "# Finding median of data Between Q1 and Q3 \n",
    "median = filtered_df['AMT_ANNUITY'].median()"
   ]
  },
  {
   "cell_type": "code",
   "execution_count": 312,
   "id": "e715d7d2-d1a1-4517-aeab-b45abe1032ed",
   "metadata": {},
   "outputs": [],
   "source": [
    "# Using median to impute missing values as mean would skew the data\n",
    "df1[\"AMT_ANNUITY\"] = df1[\"AMT_ANNUITY\"].fillna(median)"
   ]
  },
  {
   "cell_type": "code",
   "execution_count": 316,
   "id": "7747017f-52ad-4b10-b211-7fe7c48c41dc",
   "metadata": {},
   "outputs": [
    {
     "data": {
      "image/png": "[encoded data removed]",
      "text/plain": [
       "<Figure size 640x480 with 1 Axes>"
      ]
     },
     "metadata": {},
     "output_type": "display_data"
    }
   ],
   "source": [
    "#After imputation\n",
    "plt.hist(df1[\"AMT_ANNUITY\"])\n",
    "plt.show()"
   ]
  },
  {
   "cell_type": "markdown",
   "id": "52ca9d90-a394-4bd5-a2a5-0c12d6beefa1",
   "metadata": {},
   "source": [
    "Y-axis changed from 1.2 to 1.6 after imputing null values with median"
   ]
  },
  {
   "cell_type": "code",
   "execution_count": 319,
   "id": "e70d6635-cb6d-4705-8e4f-b1f7df43b87c",
   "metadata": {},
   "outputs": [
    {
     "data": {
      "image/png": "[encoded data removed]",
      "text/plain": [
       "<Figure size 800x800 with 1 Axes>"
      ]
     },
     "metadata": {},
     "output_type": "display_data"
    }
   ],
   "source": [
    "#Checking the spread of the data and also for outliers\n",
    "\n",
    "df1.boxplot([\"AMT_ANNUITY\"], figsize=[8,8])\n",
    "plt.show()"
   ]
  },
  {
   "cell_type": "markdown",
   "id": "248d950d-5cf0-4e99-ae81-30fff244757a",
   "metadata": {},
   "source": [
    "1) Data points seem to be scattered uniformly\n",
    "2) \n",
    "No need to remove/treat outliers (as also seen in the displot, values are mostly continuous)"
   ]
  },
  {
   "cell_type": "code",
   "execution_count": 324,
   "id": "6b27f958-6140-44bb-8cd9-13bd28900883",
   "metadata": {},
   "outputs": [
    {
     "data": {
      "text/plain": [
       "0"
      ]
     },
     "execution_count": 324,
     "metadata": {},
     "output_type": "execute_result"
    }
   ],
   "source": [
    "# verifying there are no null values in AMT_ANNUITY after imputation\n",
    "df1['AMT_ANNUITY'].isnull().sum() "
   ]
  },
  {
   "cell_type": "markdown",
   "id": "f12cdb06-7634-4ffb-910b-338d78ebdbbb",
   "metadata": {},
   "source": [
    "#### COLUMN: [AMT_GOODS_PRICE]\n",
    "- \n",
    "(Goods price of good that client asked for (if applicable) on the previous application)"
   ]
  },
  {
   "cell_type": "code",
   "execution_count": 327,
   "id": "21056bc8-6d3d-4331-99dd-80855eee4f31",
   "metadata": {},
   "outputs": [
    {
     "data": {
      "text/plain": [
       "count   1284699.00\n",
       "mean     227847.28\n",
       "std      315396.56\n",
       "min           0.00\n",
       "25%       50841.00\n",
       "50%      112320.00\n",
       "75%      234000.00\n",
       "max     6905160.00\n",
       "Name: AMT_GOODS_PRICE, dtype: float64"
      ]
     },
     "execution_count": 327,
     "metadata": {},
     "output_type": "execute_result"
    }
   ],
   "source": [
    "df1[\"AMT_GOODS_PRICE\"].describe()"
   ]
  },
  {
   "cell_type": "code",
   "execution_count": 329,
   "id": "29b87376-e759-4dc0-91f9-c424809111e6",
   "metadata": {},
   "outputs": [
    {
     "data": {
      "image/png": "[encoded data removed]",
      "text/plain": [
       "<Figure size 640x480 with 1 Axes>"
      ]
     },
     "metadata": {},
     "output_type": "display_data"
    }
   ],
   "source": [
    "plt.hist(df1[\"AMT_GOODS_PRICE\"])\n",
    "plt.show()"
   ]
  },
  {
   "cell_type": "code",
   "execution_count": 331,
   "id": "69526b9b-d7a2-480a-a855-546e9846ae1f",
   "metadata": {},
   "outputs": [],
   "source": [
    "# Imputing Null Values with Median \n",
    "df1[\"AMT_GOODS_PRICE\"] = df1[\"AMT_GOODS_PRICE\"].fillna(df1[\"AMT_GOODS_PRICE\"].median(skipna = True))"
   ]
  },
  {
   "cell_type": "code",
   "execution_count": 333,
   "id": "27a91d0d-9ea4-4ff5-90d3-540d916b64e7",
   "metadata": {},
   "outputs": [
    {
     "data": {
      "text/plain": [
       "0"
      ]
     },
     "execution_count": 333,
     "metadata": {},
     "output_type": "execute_result"
    }
   ],
   "source": [
    "# Verifying Null Values are Removed \n",
    "df1[\"AMT_GOODS_PRICE\"].isnull().sum()"
   ]
  },
  {
   "cell_type": "code",
   "execution_count": 335,
   "id": "4d5dce0c-37fe-49a4-9403-4e3fe2b20eff",
   "metadata": {},
   "outputs": [
    {
     "data": {
      "image/png": "[encoded data removed]",
      "text/plain": [
       "<Figure size 640x480 with 1 Axes>"
      ]
     },
     "metadata": {},
     "output_type": "display_data"
    }
   ],
   "source": [
    "plt.hist(df1[\"AMT_GOODS_PRICE\"])\n",
    "plt.show()"
   ]
  },
  {
   "cell_type": "code",
   "execution_count": 337,
   "id": "a88ef8b9-0445-4dbe-ab0e-6c7ae56c3970",
   "metadata": {},
   "outputs": [
    {
     "data": {
      "image/png": "[encoded data removed]",
      "text/plain": [
       "<Figure size 800x1000 with 1 Axes>"
      ]
     },
     "metadata": {},
     "output_type": "display_data"
    }
   ],
   "source": [
    "df1.boxplot([\"AMT_GOODS_PRICE\"], figsize = [8, 10])\n",
    "plt.show()"
   ]
  },
  {
   "cell_type": "markdown",
   "id": "f439adfd-2006-48c9-afdf-4f0b5c240505",
   "metadata": {},
   "source": [
    "AMT_GOODS_PRICE column has significant outliers but utliers can significantly affect the results of fraud detection models \n",
    "Therefore no need to handle outliers "
   ]
  },
  {
   "cell_type": "markdown",
   "id": "0a386ec9-b0ed-49d4-b96e-7b1f5f5cfd7f",
   "metadata": {},
   "source": [
    "#### COLUMN: [CNT_PAYMENT]\n",
    "the duration or terms of a previous credit or loan when applying for a new credit or loan."
   ]
  },
  {
   "cell_type": "code",
   "execution_count": 341,
   "id": "d4e1702a-24d2-4195-817b-cf0af86026d4",
   "metadata": {},
   "outputs": [
    {
     "data": {
      "text/plain": [
       "count   1297984.00\n",
       "mean         16.05\n",
       "std          14.57\n",
       "min           0.00\n",
       "25%           6.00\n",
       "50%          12.00\n",
       "75%          24.00\n",
       "max          84.00\n",
       "Name: CNT_PAYMENT, dtype: float64"
      ]
     },
     "execution_count": 341,
     "metadata": {},
     "output_type": "execute_result"
    }
   ],
   "source": [
    "df1[\"CNT_PAYMENT\"].describe()"
   ]
  },
  {
   "cell_type": "code",
   "execution_count": 343,
   "id": "ab055f7d-03c5-4387-8b7d-51d05f976e2d",
   "metadata": {},
   "outputs": [
    {
     "data": {
      "image/png": "[encoded data removed]",
      "text/plain": [
       "<Figure size 640x480 with 1 Axes>"
      ]
     },
     "metadata": {},
     "output_type": "display_data"
    }
   ],
   "source": [
    "plt.hist(df1[\"CNT_PAYMENT\"])\n",
    "plt.show()"
   ]
  },
  {
   "cell_type": "markdown",
   "id": "b2565edd-5dee-4bc5-bfa0-19291a22cd32",
   "metadata": {},
   "source": [
    "Majority of the data lie between 0 and 20"
   ]
  },
  {
   "cell_type": "code",
   "execution_count": 346,
   "id": "aa50a9f8-92e4-4983-9160-c2f0e1f6ea9a",
   "metadata": {},
   "outputs": [],
   "source": [
    "# Impute missing values with the mean \n",
    "mean = df1[\"CNT_PAYMENT\"].mean()\n",
    "df1[\"CNT_PAYMENT\"] = df1[\"CNT_PAYMENT\"].fillna(mean)"
   ]
  },
  {
   "cell_type": "code",
   "execution_count": 348,
   "id": "b46909ef-36ef-49c0-8324-db37baafe6c7",
   "metadata": {},
   "outputs": [
    {
     "data": {
      "text/plain": [
       "0"
      ]
     },
     "execution_count": 348,
     "metadata": {},
     "output_type": "execute_result"
    }
   ],
   "source": [
    "# Verifying That no Nul Values are Present in CNT_PAYMENT \n",
    "df1[\"CNT_PAYMENT\"].isnull().sum()"
   ]
  },
  {
   "cell_type": "code",
   "execution_count": 350,
   "id": "61889efe-2ce7-4d84-baf2-22fef6c2686e",
   "metadata": {},
   "outputs": [
    {
     "data": {
      "text/plain": [
       "SK_ID_PREV                       0\n",
       "SK_ID_CURR                       0\n",
       "NAME_CONTRACT_TYPE               0\n",
       "AMT_ANNUITY                      0\n",
       "AMT_APPLICATION                  0\n",
       "AMT_CREDIT                       1\n",
       "AMT_GOODS_PRICE                  0\n",
       "WEEKDAY_APPR_PROCESS_START       0\n",
       "HOUR_APPR_PROCESS_START          0\n",
       "FLAG_LAST_APPL_PER_CONTRACT      0\n",
       "NFLAG_LAST_APPL_IN_DAY           0\n",
       "NAME_CASH_LOAN_PURPOSE           0\n",
       "NAME_CONTRACT_STATUS             0\n",
       "DAYS_DECISION                    0\n",
       "NAME_PAYMENT_TYPE                0\n",
       "CODE_REJECT_REASON               0\n",
       "NAME_CLIENT_TYPE                 0\n",
       "NAME_GOODS_CATEGORY              0\n",
       "NAME_PORTFOLIO                   0\n",
       "NAME_PRODUCT_TYPE                0\n",
       "CHANNEL_TYPE                     0\n",
       "SELLERPLACE_AREA                 0\n",
       "NAME_SELLER_INDUSTRY             0\n",
       "CNT_PAYMENT                      0\n",
       "NAME_YIELD_GROUP                 0\n",
       "PRODUCT_COMBINATION            346\n",
       "dtype: int64"
      ]
     },
     "execution_count": 350,
     "metadata": {},
     "output_type": "execute_result"
    }
   ],
   "source": [
    "df1.isnull().sum() "
   ]
  },
  {
   "cell_type": "markdown",
   "id": "8b386e7b-54b3-419f-b48e-97b900955417",
   "metadata": {},
   "source": [
    "#### COLUMN: [PRODUCT_COMBINATION]\n",
    "Detailed product combination of the previous applicationn"
   ]
  },
  {
   "cell_type": "code",
   "execution_count": 353,
   "id": "632170d2-4290-4f63-bc19-fdde1527e3e0",
   "metadata": {},
   "outputs": [
    {
     "data": {
      "text/plain": [
       "count     1669868\n",
       "unique         17\n",
       "top          Cash\n",
       "freq       285990\n",
       "Name: PRODUCT_COMBINATION, dtype: object"
      ]
     },
     "execution_count": 353,
     "metadata": {},
     "output_type": "execute_result"
    }
   ],
   "source": [
    "df1[\"PRODUCT_COMBINATION\"].describe()"
   ]
  },
  {
   "cell_type": "code",
   "execution_count": 355,
   "id": "b2e350cf-5d2d-4e8b-91f0-e743b54e80fe",
   "metadata": {},
   "outputs": [
    {
     "data": {
      "text/plain": [
       "346"
      ]
     },
     "execution_count": 355,
     "metadata": {},
     "output_type": "execute_result"
    }
   ],
   "source": [
    "# Number of Missing Values \n",
    "df1['PRODUCT_COMBINATION'].isnull().sum()"
   ]
  },
  {
   "cell_type": "code",
   "execution_count": 357,
   "id": "6e87f53c-19c1-486f-9454-42b3f01babf1",
   "metadata": {},
   "outputs": [
    {
     "data": {
      "text/plain": [
       "0    POS mobile with interest\n",
       "1            Cash X-Sell: low\n",
       "2           Cash X-Sell: high\n",
       "3         Cash X-Sell: middle\n",
       "4           Cash Street: high\n",
       "Name: PRODUCT_COMBINATION, dtype: object"
      ]
     },
     "execution_count": 357,
     "metadata": {},
     "output_type": "execute_result"
    }
   ],
   "source": [
    "# Values OF PRODUCT_COMBINATION cannot be imputed as they are Categorical Data \n",
    "df['PRODUCT_COMBINATION'].head()"
   ]
  },
  {
   "cell_type": "code",
   "execution_count": 359,
   "id": "48c2aafb-f218-456e-8229-c9460889bcac",
   "metadata": {},
   "outputs": [],
   "source": [
    "# Imputing Values with Data Not Available \n",
    "df1[\"PRODUCT_COMBINATION\"] = df1[\"PRODUCT_COMBINATION\"].fillna(\"NOT AVAILABLE\")"
   ]
  },
  {
   "cell_type": "markdown",
   "id": "40c4c7a5-e75f-4400-a309-a3f8b3d69ba8",
   "metadata": {},
   "source": [
    "#### COLUMN: [AMT_CREDIT]\n",
    "Final credit amount on the previous application."
   ]
  },
  {
   "cell_type": "code",
   "execution_count": 362,
   "id": "484a9f6a-8373-4c54-8453-c6a1d68423be",
   "metadata": {},
   "outputs": [
    {
     "data": {
      "text/plain": [
       "count   1670213.00\n",
       "mean     196114.02\n",
       "std      318574.62\n",
       "min           0.00\n",
       "25%       24160.50\n",
       "50%       80541.00\n",
       "75%      216418.50\n",
       "max     6905160.00\n",
       "Name: AMT_CREDIT, dtype: float64"
      ]
     },
     "execution_count": 362,
     "metadata": {},
     "output_type": "execute_result"
    }
   ],
   "source": [
    "df1[\"AMT_CREDIT\"].describe()"
   ]
  },
  {
   "cell_type": "code",
   "execution_count": 364,
   "id": "b7752fee-3029-4c91-b2eb-860944f1b9cc",
   "metadata": {},
   "outputs": [
    {
     "data": {
      "text/plain": [
       "1"
      ]
     },
     "execution_count": 364,
     "metadata": {},
     "output_type": "execute_result"
    }
   ],
   "source": [
    "df1['AMT_CREDIT'].isnull().sum()"
   ]
  },
  {
   "cell_type": "code",
   "execution_count": 366,
   "id": "43eb1a2d-f519-4186-82f9-8df071616fbd",
   "metadata": {},
   "outputs": [],
   "source": [
    "# Imputing Null value With Median \n",
    "median = df1[\"AMT_CREDIT\"].median()\n",
    "df1[\"AMT_CREDIT\"] = df1[\"AMT_CREDIT\"].fillna(median)"
   ]
  },
  {
   "cell_type": "markdown",
   "id": "c3260364-fe52-4cf0-b196-644b0d42921d",
   "metadata": {},
   "source": [
    "#### Verifying That No Null Values are Present in the Dataset "
   ]
  },
  {
   "cell_type": "code",
   "execution_count": 369,
   "id": "8829cabb-8d19-4852-9886-a907f4335489",
   "metadata": {},
   "outputs": [
    {
     "data": {
      "text/plain": [
       "SK_ID_PREV                     0\n",
       "SK_ID_CURR                     0\n",
       "NAME_CONTRACT_TYPE             0\n",
       "AMT_ANNUITY                    0\n",
       "AMT_APPLICATION                0\n",
       "AMT_CREDIT                     0\n",
       "AMT_GOODS_PRICE                0\n",
       "WEEKDAY_APPR_PROCESS_START     0\n",
       "HOUR_APPR_PROCESS_START        0\n",
       "FLAG_LAST_APPL_PER_CONTRACT    0\n",
       "NFLAG_LAST_APPL_IN_DAY         0\n",
       "NAME_CASH_LOAN_PURPOSE         0\n",
       "NAME_CONTRACT_STATUS           0\n",
       "DAYS_DECISION                  0\n",
       "NAME_PAYMENT_TYPE              0\n",
       "CODE_REJECT_REASON             0\n",
       "NAME_CLIENT_TYPE               0\n",
       "NAME_GOODS_CATEGORY            0\n",
       "NAME_PORTFOLIO                 0\n",
       "NAME_PRODUCT_TYPE              0\n",
       "CHANNEL_TYPE                   0\n",
       "SELLERPLACE_AREA               0\n",
       "NAME_SELLER_INDUSTRY           0\n",
       "CNT_PAYMENT                    0\n",
       "NAME_YIELD_GROUP               0\n",
       "PRODUCT_COMBINATION            0\n",
       "dtype: int64"
      ]
     },
     "execution_count": 369,
     "metadata": {},
     "output_type": "execute_result"
    }
   ],
   "source": [
    "df1.isnull().sum()"
   ]
  },
  {
   "cell_type": "code",
   "execution_count": 371,
   "id": "a9c4f4d9-fd6f-4572-8de2-ebdabba46899",
   "metadata": {},
   "outputs": [
    {
     "data": {
      "text/plain": [
       "NAME_CASH_LOAN_PURPOSE\n",
       "XAP                                 922661\n",
       "XNA                                 677918\n",
       "Repairs                              23765\n",
       "Other                                15608\n",
       "Urgent needs                          8412\n",
       "Buying a used car                     2888\n",
       "Building a house or an annex          2693\n",
       "Everyday expenses                     2416\n",
       "Medicine                              2174\n",
       "Payments on other loans               1931\n",
       "Education                             1573\n",
       "Journey                               1239\n",
       "Purchase of electronic equipment      1061\n",
       "Buying a new car                      1012\n",
       "Wedding / gift / holiday               962\n",
       "Buying a home                          865\n",
       "Car repairs                            797\n",
       "Furniture                              749\n",
       "Buying a holiday home / land           533\n",
       "Business development                   426\n",
       "Gasification / water supply            300\n",
       "Buying a garage                        136\n",
       "Hobby                                   55\n",
       "Money for a third person                25\n",
       "Refusal to name the goal                15\n",
       "Name: count, dtype: int64"
      ]
     },
     "execution_count": 371,
     "metadata": {},
     "output_type": "execute_result"
    }
   ],
   "source": [
    "# Checking the NAME_CASH_LOAN_PURPOSE column for any unique data,\n",
    "\n",
    "df1.NAME_CASH_LOAN_PURPOSE.value_counts()"
   ]
  },
  {
   "cell_type": "code",
   "execution_count": 373,
   "id": "11818f03-67a7-4219-9a5b-859d48683ae9",
   "metadata": {},
   "outputs": [],
   "source": [
    "# Removing the 'XNA' and 'XAP' column values from the column,\n",
    "\n",
    "df1 = df1.drop(df1[df1.NAME_CASH_LOAN_PURPOSE=='XNA'].index)\n",
    "df1 = df1.drop(df1[df1.NAME_CASH_LOAN_PURPOSE=='XAP'].index)"
   ]
  },
  {
   "cell_type": "code",
   "execution_count": 375,
   "id": "1209c365-e1d0-46a1-a2bf-440727f2c639",
   "metadata": {},
   "outputs": [
    {
     "data": {
      "text/plain": [
       "NAME_CASH_LOAN_PURPOSE\n",
       "Repairs                             23765\n",
       "Other                               15608\n",
       "Urgent needs                         8412\n",
       "Buying a used car                    2888\n",
       "Building a house or an annex         2693\n",
       "Everyday expenses                    2416\n",
       "Medicine                             2174\n",
       "Payments on other loans              1931\n",
       "Education                            1573\n",
       "Journey                              1239\n",
       "Purchase of electronic equipment     1061\n",
       "Buying a new car                     1012\n",
       "Wedding / gift / holiday              962\n",
       "Buying a home                         865\n",
       "Car repairs                           797\n",
       "Furniture                             749\n",
       "Buying a holiday home / land          533\n",
       "Business development                  426\n",
       "Gasification / water supply           300\n",
       "Buying a garage                       136\n",
       "Hobby                                  55\n",
       "Money for a third person               25\n",
       "Refusal to name the goal               15\n",
       "Name: count, dtype: int64"
      ]
     },
     "execution_count": 375,
     "metadata": {},
     "output_type": "execute_result"
    }
   ],
   "source": [
    "# Rechecking the NAME_CASH_LOAN_PURPOSE for the values.\n",
    "\n",
    "df1.NAME_CASH_LOAN_PURPOSE.value_counts()"
   ]
  },
  {
   "cell_type": "markdown",
   "id": "db420dbb-411d-4193-997a-f45bdd8410e3",
   "metadata": {},
   "source": [
    "# Cleaning of Previous Appliocation data has done"
   ]
  },
  {
   "cell_type": "markdown",
   "id": "318a8584-de87-4906-94e5-c0aee8605f03",
   "metadata": {},
   "source": [
    "# Exploring Application data"
   ]
  },
  {
   "cell_type": "code",
   "execution_count": 400,
   "id": "6bc97fd6-5a44-4461-bcb1-b762f82740ae",
   "metadata": {},
   "outputs": [
    {
     "data": {
      "text/html": [
       "<div>\n",
       "<style scoped>\n",
       "    .dataframe tbody tr th:only-of-type {\n",
       "        vertical-align: middle;\n",
       "    }\n",
       "\n",
       "    .dataframe tbody tr th {\n",
       "        vertical-align: top;\n",
       "    }\n",
       "\n",
       "    .dataframe thead th {\n",
       "        text-align: right;\n",
       "    }\n",
       "</style>\n",
       "<table border=\"1\" class=\"dataframe\">\n",
       "  <thead>\n",
       "    <tr style=\"text-align: right;\">\n",
       "      <th></th>\n",
       "      <th>SK_ID_CURR</th>\n",
       "      <th>TARGET</th>\n",
       "      <th>NAME_CONTRACT_TYPE</th>\n",
       "      <th>CODE_GENDER</th>\n",
       "      <th>FLAG_OWN_CAR</th>\n",
       "      <th>FLAG_OWN_REALTY</th>\n",
       "      <th>CNT_CHILDREN</th>\n",
       "      <th>AMT_INCOME_TOTAL</th>\n",
       "      <th>AMT_CREDIT</th>\n",
       "      <th>AMT_ANNUITY</th>\n",
       "      <th>...</th>\n",
       "      <th>FLAG_DOCUMENT_18</th>\n",
       "      <th>FLAG_DOCUMENT_19</th>\n",
       "      <th>FLAG_DOCUMENT_20</th>\n",
       "      <th>FLAG_DOCUMENT_21</th>\n",
       "      <th>AMT_REQ_CREDIT_BUREAU_HOUR</th>\n",
       "      <th>AMT_REQ_CREDIT_BUREAU_DAY</th>\n",
       "      <th>AMT_REQ_CREDIT_BUREAU_WEEK</th>\n",
       "      <th>AMT_REQ_CREDIT_BUREAU_MON</th>\n",
       "      <th>AMT_REQ_CREDIT_BUREAU_QRT</th>\n",
       "      <th>AMT_REQ_CREDIT_BUREAU_YEAR</th>\n",
       "    </tr>\n",
       "  </thead>\n",
       "  <tbody>\n",
       "    <tr>\n",
       "      <th>0</th>\n",
       "      <td>100002</td>\n",
       "      <td>1</td>\n",
       "      <td>Cash loans</td>\n",
       "      <td>M</td>\n",
       "      <td>N</td>\n",
       "      <td>Y</td>\n",
       "      <td>0</td>\n",
       "      <td>202500.00</td>\n",
       "      <td>406597.50</td>\n",
       "      <td>24700.50</td>\n",
       "      <td>...</td>\n",
       "      <td>0</td>\n",
       "      <td>0</td>\n",
       "      <td>0</td>\n",
       "      <td>0</td>\n",
       "      <td>0.00</td>\n",
       "      <td>0.00</td>\n",
       "      <td>0.00</td>\n",
       "      <td>0.00</td>\n",
       "      <td>0.00</td>\n",
       "      <td>1.00</td>\n",
       "    </tr>\n",
       "    <tr>\n",
       "      <th>1</th>\n",
       "      <td>100003</td>\n",
       "      <td>0</td>\n",
       "      <td>Cash loans</td>\n",
       "      <td>F</td>\n",
       "      <td>N</td>\n",
       "      <td>N</td>\n",
       "      <td>0</td>\n",
       "      <td>270000.00</td>\n",
       "      <td>1293502.50</td>\n",
       "      <td>35698.50</td>\n",
       "      <td>...</td>\n",
       "      <td>0</td>\n",
       "      <td>0</td>\n",
       "      <td>0</td>\n",
       "      <td>0</td>\n",
       "      <td>0.00</td>\n",
       "      <td>0.00</td>\n",
       "      <td>0.00</td>\n",
       "      <td>0.00</td>\n",
       "      <td>0.00</td>\n",
       "      <td>0.00</td>\n",
       "    </tr>\n",
       "    <tr>\n",
       "      <th>2</th>\n",
       "      <td>100004</td>\n",
       "      <td>0</td>\n",
       "      <td>Revolving loans</td>\n",
       "      <td>M</td>\n",
       "      <td>Y</td>\n",
       "      <td>Y</td>\n",
       "      <td>0</td>\n",
       "      <td>67500.00</td>\n",
       "      <td>135000.00</td>\n",
       "      <td>6750.00</td>\n",
       "      <td>...</td>\n",
       "      <td>0</td>\n",
       "      <td>0</td>\n",
       "      <td>0</td>\n",
       "      <td>0</td>\n",
       "      <td>0.00</td>\n",
       "      <td>0.00</td>\n",
       "      <td>0.00</td>\n",
       "      <td>0.00</td>\n",
       "      <td>0.00</td>\n",
       "      <td>0.00</td>\n",
       "    </tr>\n",
       "    <tr>\n",
       "      <th>3</th>\n",
       "      <td>100006</td>\n",
       "      <td>0</td>\n",
       "      <td>Cash loans</td>\n",
       "      <td>F</td>\n",
       "      <td>N</td>\n",
       "      <td>Y</td>\n",
       "      <td>0</td>\n",
       "      <td>135000.00</td>\n",
       "      <td>312682.50</td>\n",
       "      <td>29686.50</td>\n",
       "      <td>...</td>\n",
       "      <td>0</td>\n",
       "      <td>0</td>\n",
       "      <td>0</td>\n",
       "      <td>0</td>\n",
       "      <td>NaN</td>\n",
       "      <td>NaN</td>\n",
       "      <td>NaN</td>\n",
       "      <td>NaN</td>\n",
       "      <td>NaN</td>\n",
       "      <td>NaN</td>\n",
       "    </tr>\n",
       "    <tr>\n",
       "      <th>4</th>\n",
       "      <td>100007</td>\n",
       "      <td>0</td>\n",
       "      <td>Cash loans</td>\n",
       "      <td>M</td>\n",
       "      <td>N</td>\n",
       "      <td>Y</td>\n",
       "      <td>0</td>\n",
       "      <td>121500.00</td>\n",
       "      <td>513000.00</td>\n",
       "      <td>21865.50</td>\n",
       "      <td>...</td>\n",
       "      <td>0</td>\n",
       "      <td>0</td>\n",
       "      <td>0</td>\n",
       "      <td>0</td>\n",
       "      <td>0.00</td>\n",
       "      <td>0.00</td>\n",
       "      <td>0.00</td>\n",
       "      <td>0.00</td>\n",
       "      <td>0.00</td>\n",
       "      <td>0.00</td>\n",
       "    </tr>\n",
       "  </tbody>\n",
       "</table>\n",
       "<p>5 rows × 122 columns</p>\n",
       "</div>"
      ],
      "text/plain": [
       "   SK_ID_CURR  TARGET NAME_CONTRACT_TYPE CODE_GENDER FLAG_OWN_CAR  \\\n",
       "0      100002       1         Cash loans           M            N   \n",
       "1      100003       0         Cash loans           F            N   \n",
       "2      100004       0    Revolving loans           M            Y   \n",
       "3      100006       0         Cash loans           F            N   \n",
       "4      100007       0         Cash loans           M            N   \n",
       "\n",
       "  FLAG_OWN_REALTY  CNT_CHILDREN  AMT_INCOME_TOTAL  AMT_CREDIT  AMT_ANNUITY  \\\n",
       "0               Y             0         202500.00   406597.50     24700.50   \n",
       "1               N             0         270000.00  1293502.50     35698.50   \n",
       "2               Y             0          67500.00   135000.00      6750.00   \n",
       "3               Y             0         135000.00   312682.50     29686.50   \n",
       "4               Y             0         121500.00   513000.00     21865.50   \n",
       "\n",
       "   ...  FLAG_DOCUMENT_18 FLAG_DOCUMENT_19 FLAG_DOCUMENT_20 FLAG_DOCUMENT_21  \\\n",
       "0  ...                 0                0                0                0   \n",
       "1  ...                 0                0                0                0   \n",
       "2  ...                 0                0                0                0   \n",
       "3  ...                 0                0                0                0   \n",
       "4  ...                 0                0                0                0   \n",
       "\n",
       "  AMT_REQ_CREDIT_BUREAU_HOUR AMT_REQ_CREDIT_BUREAU_DAY  \\\n",
       "0                       0.00                      0.00   \n",
       "1                       0.00                      0.00   \n",
       "2                       0.00                      0.00   \n",
       "3                        NaN                       NaN   \n",
       "4                       0.00                      0.00   \n",
       "\n",
       "   AMT_REQ_CREDIT_BUREAU_WEEK  AMT_REQ_CREDIT_BUREAU_MON  \\\n",
       "0                        0.00                       0.00   \n",
       "1                        0.00                       0.00   \n",
       "2                        0.00                       0.00   \n",
       "3                         NaN                        NaN   \n",
       "4                        0.00                       0.00   \n",
       "\n",
       "   AMT_REQ_CREDIT_BUREAU_QRT  AMT_REQ_CREDIT_BUREAU_YEAR  \n",
       "0                       0.00                        1.00  \n",
       "1                       0.00                        0.00  \n",
       "2                       0.00                        0.00  \n",
       "3                        NaN                         NaN  \n",
       "4                       0.00                        0.00  \n",
       "\n",
       "[5 rows x 122 columns]"
      ]
     },
     "execution_count": 400,
     "metadata": {},
     "output_type": "execute_result"
    }
   ],
   "source": [
    "# Information of columns \n",
    "df_ad.head()"
   ]
  },
  {
   "cell_type": "code",
   "execution_count": 402,
   "id": "46175714-79e9-4365-adb5-4cb4aeb2296c",
   "metadata": {
    "scrolled": true
   },
   "outputs": [
    {
     "name": "stdout",
     "output_type": "stream",
     "text": [
      "<class 'pandas.core.frame.DataFrame'>\n",
      "RangeIndex: 307511 entries, 0 to 307510\n",
      "Data columns (total 122 columns):\n",
      " #    Column                        Dtype  \n",
      "---   ------                        -----  \n",
      " 0    SK_ID_CURR                    int64  \n",
      " 1    TARGET                        int64  \n",
      " 2    NAME_CONTRACT_TYPE            object \n",
      " 3    CODE_GENDER                   object \n",
      " 4    FLAG_OWN_CAR                  object \n",
      " 5    FLAG_OWN_REALTY               object \n",
      " 6    CNT_CHILDREN                  int64  \n",
      " 7    AMT_INCOME_TOTAL              float64\n",
      " 8    AMT_CREDIT                    float64\n",
      " 9    AMT_ANNUITY                   float64\n",
      " 10   AMT_GOODS_PRICE               float64\n",
      " 11   NAME_TYPE_SUITE               object \n",
      " 12   NAME_INCOME_TYPE              object \n",
      " 13   NAME_EDUCATION_TYPE           object \n",
      " 14   NAME_FAMILY_STATUS            object \n",
      " 15   NAME_HOUSING_TYPE             object \n",
      " 16   REGION_POPULATION_RELATIVE    float64\n",
      " 17   DAYS_BIRTH                    int64  \n",
      " 18   DAYS_EMPLOYED                 int64  \n",
      " 19   DAYS_REGISTRATION             float64\n",
      " 20   DAYS_ID_PUBLISH               int64  \n",
      " 21   OWN_CAR_AGE                   float64\n",
      " 22   FLAG_MOBIL                    int64  \n",
      " 23   FLAG_EMP_PHONE                int64  \n",
      " 24   FLAG_WORK_PHONE               int64  \n",
      " 25   FLAG_CONT_MOBILE              int64  \n",
      " 26   FLAG_PHONE                    int64  \n",
      " 27   FLAG_EMAIL                    int64  \n",
      " 28   OCCUPATION_TYPE               object \n",
      " 29   CNT_FAM_MEMBERS               float64\n",
      " 30   REGION_RATING_CLIENT          int64  \n",
      " 31   REGION_RATING_CLIENT_W_CITY   int64  \n",
      " 32   WEEKDAY_APPR_PROCESS_START    object \n",
      " 33   HOUR_APPR_PROCESS_START       int64  \n",
      " 34   REG_REGION_NOT_LIVE_REGION    int64  \n",
      " 35   REG_REGION_NOT_WORK_REGION    int64  \n",
      " 36   LIVE_REGION_NOT_WORK_REGION   int64  \n",
      " 37   REG_CITY_NOT_LIVE_CITY        int64  \n",
      " 38   REG_CITY_NOT_WORK_CITY        int64  \n",
      " 39   LIVE_CITY_NOT_WORK_CITY       int64  \n",
      " 40   ORGANIZATION_TYPE             object \n",
      " 41   EXT_SOURCE_1                  float64\n",
      " 42   EXT_SOURCE_2                  float64\n",
      " 43   EXT_SOURCE_3                  float64\n",
      " 44   APARTMENTS_AVG                float64\n",
      " 45   BASEMENTAREA_AVG              float64\n",
      " 46   YEARS_BEGINEXPLUATATION_AVG   float64\n",
      " 47   YEARS_BUILD_AVG               float64\n",
      " 48   COMMONAREA_AVG                float64\n",
      " 49   ELEVATORS_AVG                 float64\n",
      " 50   ENTRANCES_AVG                 float64\n",
      " 51   FLOORSMAX_AVG                 float64\n",
      " 52   FLOORSMIN_AVG                 float64\n",
      " 53   LANDAREA_AVG                  float64\n",
      " 54   LIVINGAPARTMENTS_AVG          float64\n",
      " 55   LIVINGAREA_AVG                float64\n",
      " 56   NONLIVINGAPARTMENTS_AVG       float64\n",
      " 57   NONLIVINGAREA_AVG             float64\n",
      " 58   APARTMENTS_MODE               float64\n",
      " 59   BASEMENTAREA_MODE             float64\n",
      " 60   YEARS_BEGINEXPLUATATION_MODE  float64\n",
      " 61   YEARS_BUILD_MODE              float64\n",
      " 62   COMMONAREA_MODE               float64\n",
      " 63   ELEVATORS_MODE                float64\n",
      " 64   ENTRANCES_MODE                float64\n",
      " 65   FLOORSMAX_MODE                float64\n",
      " 66   FLOORSMIN_MODE                float64\n",
      " 67   LANDAREA_MODE                 float64\n",
      " 68   LIVINGAPARTMENTS_MODE         float64\n",
      " 69   LIVINGAREA_MODE               float64\n",
      " 70   NONLIVINGAPARTMENTS_MODE      float64\n",
      " 71   NONLIVINGAREA_MODE            float64\n",
      " 72   APARTMENTS_MEDI               float64\n",
      " 73   BASEMENTAREA_MEDI             float64\n",
      " 74   YEARS_BEGINEXPLUATATION_MEDI  float64\n",
      " 75   YEARS_BUILD_MEDI              float64\n",
      " 76   COMMONAREA_MEDI               float64\n",
      " 77   ELEVATORS_MEDI                float64\n",
      " 78   ENTRANCES_MEDI                float64\n",
      " 79   FLOORSMAX_MEDI                float64\n",
      " 80   FLOORSMIN_MEDI                float64\n",
      " 81   LANDAREA_MEDI                 float64\n",
      " 82   LIVINGAPARTMENTS_MEDI         float64\n",
      " 83   LIVINGAREA_MEDI               float64\n",
      " 84   NONLIVINGAPARTMENTS_MEDI      float64\n",
      " 85   NONLIVINGAREA_MEDI            float64\n",
      " 86   FONDKAPREMONT_MODE            object \n",
      " 87   HOUSETYPE_MODE                object \n",
      " 88   TOTALAREA_MODE                float64\n",
      " 89   WALLSMATERIAL_MODE            object \n",
      " 90   EMERGENCYSTATE_MODE           object \n",
      " 91   OBS_30_CNT_SOCIAL_CIRCLE      float64\n",
      " 92   DEF_30_CNT_SOCIAL_CIRCLE      float64\n",
      " 93   OBS_60_CNT_SOCIAL_CIRCLE      float64\n",
      " 94   DEF_60_CNT_SOCIAL_CIRCLE      float64\n",
      " 95   DAYS_LAST_PHONE_CHANGE        float64\n",
      " 96   FLAG_DOCUMENT_2               int64  \n",
      " 97   FLAG_DOCUMENT_3               int64  \n",
      " 98   FLAG_DOCUMENT_4               int64  \n",
      " 99   FLAG_DOCUMENT_5               int64  \n",
      " 100  FLAG_DOCUMENT_6               int64  \n",
      " 101  FLAG_DOCUMENT_7               int64  \n",
      " 102  FLAG_DOCUMENT_8               int64  \n",
      " 103  FLAG_DOCUMENT_9               int64  \n",
      " 104  FLAG_DOCUMENT_10              int64  \n",
      " 105  FLAG_DOCUMENT_11              int64  \n",
      " 106  FLAG_DOCUMENT_12              int64  \n",
      " 107  FLAG_DOCUMENT_13              int64  \n",
      " 108  FLAG_DOCUMENT_14              int64  \n",
      " 109  FLAG_DOCUMENT_15              int64  \n",
      " 110  FLAG_DOCUMENT_16              int64  \n",
      " 111  FLAG_DOCUMENT_17              int64  \n",
      " 112  FLAG_DOCUMENT_18              int64  \n",
      " 113  FLAG_DOCUMENT_19              int64  \n",
      " 114  FLAG_DOCUMENT_20              int64  \n",
      " 115  FLAG_DOCUMENT_21              int64  \n",
      " 116  AMT_REQ_CREDIT_BUREAU_HOUR    float64\n",
      " 117  AMT_REQ_CREDIT_BUREAU_DAY     float64\n",
      " 118  AMT_REQ_CREDIT_BUREAU_WEEK    float64\n",
      " 119  AMT_REQ_CREDIT_BUREAU_MON     float64\n",
      " 120  AMT_REQ_CREDIT_BUREAU_QRT     float64\n",
      " 121  AMT_REQ_CREDIT_BUREAU_YEAR    float64\n",
      "dtypes: float64(65), int64(41), object(16)\n",
      "memory usage: 286.2+ MB\n"
     ]
    }
   ],
   "source": [
    "#Info of column\n",
    "df_ad.info(verbose=True)"
   ]
  },
  {
   "cell_type": "code",
   "execution_count": 404,
   "id": "aeeadfdc-6334-46c4-a220-4748d11e5974",
   "metadata": {
    "scrolled": true
   },
   "outputs": [
    {
     "data": {
      "text/plain": [
       "SK_ID_CURR                      0.00\n",
       "TARGET                          0.00\n",
       "NAME_CONTRACT_TYPE              0.00\n",
       "CODE_GENDER                     0.00\n",
       "FLAG_OWN_CAR                    0.00\n",
       "FLAG_OWN_REALTY                 0.00\n",
       "CNT_CHILDREN                    0.00\n",
       "AMT_INCOME_TOTAL                0.00\n",
       "AMT_CREDIT                      0.00\n",
       "AMT_ANNUITY                     0.00\n",
       "AMT_GOODS_PRICE                 0.09\n",
       "NAME_TYPE_SUITE                 0.42\n",
       "NAME_INCOME_TYPE                0.00\n",
       "NAME_EDUCATION_TYPE             0.00\n",
       "NAME_FAMILY_STATUS              0.00\n",
       "NAME_HOUSING_TYPE               0.00\n",
       "REGION_POPULATION_RELATIVE      0.00\n",
       "DAYS_BIRTH                      0.00\n",
       "DAYS_EMPLOYED                   0.00\n",
       "DAYS_REGISTRATION               0.00\n",
       "DAYS_ID_PUBLISH                 0.00\n",
       "OWN_CAR_AGE                    65.99\n",
       "FLAG_MOBIL                      0.00\n",
       "FLAG_EMP_PHONE                  0.00\n",
       "FLAG_WORK_PHONE                 0.00\n",
       "FLAG_CONT_MOBILE                0.00\n",
       "FLAG_PHONE                      0.00\n",
       "FLAG_EMAIL                      0.00\n",
       "OCCUPATION_TYPE                31.35\n",
       "CNT_FAM_MEMBERS                 0.00\n",
       "REGION_RATING_CLIENT            0.00\n",
       "REGION_RATING_CLIENT_W_CITY     0.00\n",
       "WEEKDAY_APPR_PROCESS_START      0.00\n",
       "HOUR_APPR_PROCESS_START         0.00\n",
       "REG_REGION_NOT_LIVE_REGION      0.00\n",
       "REG_REGION_NOT_WORK_REGION      0.00\n",
       "LIVE_REGION_NOT_WORK_REGION     0.00\n",
       "REG_CITY_NOT_LIVE_CITY          0.00\n",
       "REG_CITY_NOT_WORK_CITY          0.00\n",
       "LIVE_CITY_NOT_WORK_CITY         0.00\n",
       "ORGANIZATION_TYPE               0.00\n",
       "EXT_SOURCE_1                   56.38\n",
       "EXT_SOURCE_2                    0.21\n",
       "EXT_SOURCE_3                   19.83\n",
       "APARTMENTS_AVG                 50.75\n",
       "BASEMENTAREA_AVG               58.52\n",
       "YEARS_BEGINEXPLUATATION_AVG    48.78\n",
       "YEARS_BUILD_AVG                66.50\n",
       "COMMONAREA_AVG                 69.87\n",
       "ELEVATORS_AVG                  53.30\n",
       "ENTRANCES_AVG                  50.35\n",
       "FLOORSMAX_AVG                  49.76\n",
       "FLOORSMIN_AVG                  67.85\n",
       "LANDAREA_AVG                   59.38\n",
       "LIVINGAPARTMENTS_AVG           68.35\n",
       "LIVINGAREA_AVG                 50.19\n",
       "NONLIVINGAPARTMENTS_AVG        69.43\n",
       "NONLIVINGAREA_AVG              55.18\n",
       "APARTMENTS_MODE                50.75\n",
       "BASEMENTAREA_MODE              58.52\n",
       "YEARS_BEGINEXPLUATATION_MODE   48.78\n",
       "YEARS_BUILD_MODE               66.50\n",
       "COMMONAREA_MODE                69.87\n",
       "ELEVATORS_MODE                 53.30\n",
       "ENTRANCES_MODE                 50.35\n",
       "FLOORSMAX_MODE                 49.76\n",
       "FLOORSMIN_MODE                 67.85\n",
       "LANDAREA_MODE                  59.38\n",
       "LIVINGAPARTMENTS_MODE          68.35\n",
       "LIVINGAREA_MODE                50.19\n",
       "NONLIVINGAPARTMENTS_MODE       69.43\n",
       "NONLIVINGAREA_MODE             55.18\n",
       "APARTMENTS_MEDI                50.75\n",
       "BASEMENTAREA_MEDI              58.52\n",
       "YEARS_BEGINEXPLUATATION_MEDI   48.78\n",
       "YEARS_BUILD_MEDI               66.50\n",
       "COMMONAREA_MEDI                69.87\n",
       "ELEVATORS_MEDI                 53.30\n",
       "ENTRANCES_MEDI                 50.35\n",
       "FLOORSMAX_MEDI                 49.76\n",
       "FLOORSMIN_MEDI                 67.85\n",
       "LANDAREA_MEDI                  59.38\n",
       "LIVINGAPARTMENTS_MEDI          68.35\n",
       "LIVINGAREA_MEDI                50.19\n",
       "NONLIVINGAPARTMENTS_MEDI       69.43\n",
       "NONLIVINGAREA_MEDI             55.18\n",
       "FONDKAPREMONT_MODE             68.39\n",
       "HOUSETYPE_MODE                 50.18\n",
       "TOTALAREA_MODE                 48.27\n",
       "WALLSMATERIAL_MODE             50.84\n",
       "EMERGENCYSTATE_MODE            47.40\n",
       "OBS_30_CNT_SOCIAL_CIRCLE        0.33\n",
       "DEF_30_CNT_SOCIAL_CIRCLE        0.33\n",
       "OBS_60_CNT_SOCIAL_CIRCLE        0.33\n",
       "DEF_60_CNT_SOCIAL_CIRCLE        0.33\n",
       "DAYS_LAST_PHONE_CHANGE          0.00\n",
       "FLAG_DOCUMENT_2                 0.00\n",
       "FLAG_DOCUMENT_3                 0.00\n",
       "FLAG_DOCUMENT_4                 0.00\n",
       "FLAG_DOCUMENT_5                 0.00\n",
       "FLAG_DOCUMENT_6                 0.00\n",
       "FLAG_DOCUMENT_7                 0.00\n",
       "FLAG_DOCUMENT_8                 0.00\n",
       "FLAG_DOCUMENT_9                 0.00\n",
       "FLAG_DOCUMENT_10                0.00\n",
       "FLAG_DOCUMENT_11                0.00\n",
       "FLAG_DOCUMENT_12                0.00\n",
       "FLAG_DOCUMENT_13                0.00\n",
       "FLAG_DOCUMENT_14                0.00\n",
       "FLAG_DOCUMENT_15                0.00\n",
       "FLAG_DOCUMENT_16                0.00\n",
       "FLAG_DOCUMENT_17                0.00\n",
       "FLAG_DOCUMENT_18                0.00\n",
       "FLAG_DOCUMENT_19                0.00\n",
       "FLAG_DOCUMENT_20                0.00\n",
       "FLAG_DOCUMENT_21                0.00\n",
       "AMT_REQ_CREDIT_BUREAU_HOUR     13.50\n",
       "AMT_REQ_CREDIT_BUREAU_DAY      13.50\n",
       "AMT_REQ_CREDIT_BUREAU_WEEK     13.50\n",
       "AMT_REQ_CREDIT_BUREAU_MON      13.50\n",
       "AMT_REQ_CREDIT_BUREAU_QRT      13.50\n",
       "AMT_REQ_CREDIT_BUREAU_YEAR     13.50\n",
       "dtype: float64"
      ]
     },
     "execution_count": 404,
     "metadata": {},
     "output_type": "execute_result"
    }
   ],
   "source": [
    "# Number of Null Values in Each Column \n",
    "a=(df_ad.isnull().sum()/len(df_ad.index))*100\n",
    "a"
   ]
  },
  {
   "cell_type": "code",
   "execution_count": 406,
   "id": "9419f019-8ebe-4a11-b3a6-f936e9c626ed",
   "metadata": {},
   "outputs": [
    {
     "name": "stderr",
     "output_type": "stream",
     "text": [
      "C:\\Users\\prana\\AppData\\Local\\Temp\\ipykernel_16160\\3826691547.py:1: FutureWarning: Series.__getitem__ treating keys as positions is deprecated. In a future version, integer keys will always be treated as labels (consistent with DataFrame behavior). To access a value by position, use `ser.iloc[pos]`\n",
      "  null=a[np.where(a>40)[0]]\n"
     ]
    }
   ],
   "source": [
    "null=a[np.where(a>40)[0]]"
   ]
  },
  {
   "cell_type": "code",
   "execution_count": 412,
   "id": "4079773e-42f5-403f-b3b0-ec41e233371e",
   "metadata": {},
   "outputs": [],
   "source": [
    "applications = df_ad.drop(null.index,axis=1)"
   ]
  },
  {
   "cell_type": "code",
   "execution_count": 414,
   "id": "9af5b3e9-958c-4042-9f83-06fdedeaf182",
   "metadata": {},
   "outputs": [
    {
     "data": {
      "text/plain": [
       "(307511, 73)"
      ]
     },
     "execution_count": 414,
     "metadata": {},
     "output_type": "execute_result"
    }
   ],
   "source": [
    "applications.shape"
   ]
  },
  {
   "cell_type": "code",
   "execution_count": 416,
   "id": "1a507041-b2df-434e-b741-c8cf96ca5734",
   "metadata": {
    "scrolled": true
   },
   "outputs": [
    {
     "data": {
      "text/plain": [
       "SK_ID_CURR                     0.00\n",
       "TARGET                         0.00\n",
       "NAME_CONTRACT_TYPE             0.00\n",
       "CODE_GENDER                    0.00\n",
       "FLAG_OWN_CAR                   0.00\n",
       "FLAG_OWN_REALTY                0.00\n",
       "CNT_CHILDREN                   0.00\n",
       "AMT_INCOME_TOTAL               0.00\n",
       "AMT_CREDIT                     0.00\n",
       "AMT_ANNUITY                    0.00\n",
       "AMT_GOODS_PRICE                0.09\n",
       "NAME_TYPE_SUITE                0.42\n",
       "NAME_INCOME_TYPE               0.00\n",
       "NAME_EDUCATION_TYPE            0.00\n",
       "NAME_FAMILY_STATUS             0.00\n",
       "NAME_HOUSING_TYPE              0.00\n",
       "REGION_POPULATION_RELATIVE     0.00\n",
       "DAYS_BIRTH                     0.00\n",
       "DAYS_EMPLOYED                  0.00\n",
       "DAYS_REGISTRATION              0.00\n",
       "DAYS_ID_PUBLISH                0.00\n",
       "FLAG_MOBIL                     0.00\n",
       "FLAG_EMP_PHONE                 0.00\n",
       "FLAG_WORK_PHONE                0.00\n",
       "FLAG_CONT_MOBILE               0.00\n",
       "FLAG_PHONE                     0.00\n",
       "FLAG_EMAIL                     0.00\n",
       "OCCUPATION_TYPE               31.35\n",
       "CNT_FAM_MEMBERS                0.00\n",
       "REGION_RATING_CLIENT           0.00\n",
       "REGION_RATING_CLIENT_W_CITY    0.00\n",
       "WEEKDAY_APPR_PROCESS_START     0.00\n",
       "HOUR_APPR_PROCESS_START        0.00\n",
       "REG_REGION_NOT_LIVE_REGION     0.00\n",
       "REG_REGION_NOT_WORK_REGION     0.00\n",
       "LIVE_REGION_NOT_WORK_REGION    0.00\n",
       "REG_CITY_NOT_LIVE_CITY         0.00\n",
       "REG_CITY_NOT_WORK_CITY         0.00\n",
       "LIVE_CITY_NOT_WORK_CITY        0.00\n",
       "ORGANIZATION_TYPE              0.00\n",
       "EXT_SOURCE_2                   0.21\n",
       "EXT_SOURCE_3                  19.83\n",
       "OBS_30_CNT_SOCIAL_CIRCLE       0.33\n",
       "DEF_30_CNT_SOCIAL_CIRCLE       0.33\n",
       "OBS_60_CNT_SOCIAL_CIRCLE       0.33\n",
       "DEF_60_CNT_SOCIAL_CIRCLE       0.33\n",
       "DAYS_LAST_PHONE_CHANGE         0.00\n",
       "FLAG_DOCUMENT_2                0.00\n",
       "FLAG_DOCUMENT_3                0.00\n",
       "FLAG_DOCUMENT_4                0.00\n",
       "FLAG_DOCUMENT_5                0.00\n",
       "FLAG_DOCUMENT_6                0.00\n",
       "FLAG_DOCUMENT_7                0.00\n",
       "FLAG_DOCUMENT_8                0.00\n",
       "FLAG_DOCUMENT_9                0.00\n",
       "FLAG_DOCUMENT_10               0.00\n",
       "FLAG_DOCUMENT_11               0.00\n",
       "FLAG_DOCUMENT_12               0.00\n",
       "FLAG_DOCUMENT_13               0.00\n",
       "FLAG_DOCUMENT_14               0.00\n",
       "FLAG_DOCUMENT_15               0.00\n",
       "FLAG_DOCUMENT_16               0.00\n",
       "FLAG_DOCUMENT_17               0.00\n",
       "FLAG_DOCUMENT_18               0.00\n",
       "FLAG_DOCUMENT_19               0.00\n",
       "FLAG_DOCUMENT_20               0.00\n",
       "FLAG_DOCUMENT_21               0.00\n",
       "AMT_REQ_CREDIT_BUREAU_HOUR    13.50\n",
       "AMT_REQ_CREDIT_BUREAU_DAY     13.50\n",
       "AMT_REQ_CREDIT_BUREAU_WEEK    13.50\n",
       "AMT_REQ_CREDIT_BUREAU_MON     13.50\n",
       "AMT_REQ_CREDIT_BUREAU_QRT     13.50\n",
       "AMT_REQ_CREDIT_BUREAU_YEAR    13.50\n",
       "dtype: float64"
      ]
     },
     "execution_count": 416,
     "metadata": {},
     "output_type": "execute_result"
    }
   ],
   "source": [
    "# Number of Null Values in Each Column \n",
    "(applications.isnull().sum()/len(applications.index))*100"
   ]
  },
  {
   "cell_type": "code",
   "execution_count": 418,
   "id": "4d3244fb-f581-4f10-ae16-8b6233a2e463",
   "metadata": {},
   "outputs": [
    {
     "data": {
      "text/html": [
       "<div>\n",
       "<style scoped>\n",
       "    .dataframe tbody tr th:only-of-type {\n",
       "        vertical-align: middle;\n",
       "    }\n",
       "\n",
       "    .dataframe tbody tr th {\n",
       "        vertical-align: top;\n",
       "    }\n",
       "\n",
       "    .dataframe thead th {\n",
       "        text-align: right;\n",
       "    }\n",
       "</style>\n",
       "<table border=\"1\" class=\"dataframe\">\n",
       "  <thead>\n",
       "    <tr style=\"text-align: right;\">\n",
       "      <th></th>\n",
       "      <th>SK_ID_CURR</th>\n",
       "      <th>TARGET</th>\n",
       "      <th>NAME_CONTRACT_TYPE</th>\n",
       "      <th>CODE_GENDER</th>\n",
       "      <th>FLAG_OWN_CAR</th>\n",
       "      <th>FLAG_OWN_REALTY</th>\n",
       "      <th>CNT_CHILDREN</th>\n",
       "      <th>AMT_INCOME_TOTAL</th>\n",
       "      <th>AMT_CREDIT</th>\n",
       "      <th>AMT_ANNUITY</th>\n",
       "      <th>...</th>\n",
       "      <th>FLAG_DOCUMENT_18</th>\n",
       "      <th>FLAG_DOCUMENT_19</th>\n",
       "      <th>FLAG_DOCUMENT_20</th>\n",
       "      <th>FLAG_DOCUMENT_21</th>\n",
       "      <th>AMT_REQ_CREDIT_BUREAU_HOUR</th>\n",
       "      <th>AMT_REQ_CREDIT_BUREAU_DAY</th>\n",
       "      <th>AMT_REQ_CREDIT_BUREAU_WEEK</th>\n",
       "      <th>AMT_REQ_CREDIT_BUREAU_MON</th>\n",
       "      <th>AMT_REQ_CREDIT_BUREAU_QRT</th>\n",
       "      <th>AMT_REQ_CREDIT_BUREAU_YEAR</th>\n",
       "    </tr>\n",
       "  </thead>\n",
       "  <tbody>\n",
       "    <tr>\n",
       "      <th>0</th>\n",
       "      <td>100002</td>\n",
       "      <td>1</td>\n",
       "      <td>Cash loans</td>\n",
       "      <td>M</td>\n",
       "      <td>N</td>\n",
       "      <td>Y</td>\n",
       "      <td>0</td>\n",
       "      <td>202500.00</td>\n",
       "      <td>406597.50</td>\n",
       "      <td>24700.50</td>\n",
       "      <td>...</td>\n",
       "      <td>0</td>\n",
       "      <td>0</td>\n",
       "      <td>0</td>\n",
       "      <td>0</td>\n",
       "      <td>0.00</td>\n",
       "      <td>0.00</td>\n",
       "      <td>0.00</td>\n",
       "      <td>0.00</td>\n",
       "      <td>0.00</td>\n",
       "      <td>1.00</td>\n",
       "    </tr>\n",
       "    <tr>\n",
       "      <th>1</th>\n",
       "      <td>100003</td>\n",
       "      <td>0</td>\n",
       "      <td>Cash loans</td>\n",
       "      <td>F</td>\n",
       "      <td>N</td>\n",
       "      <td>N</td>\n",
       "      <td>0</td>\n",
       "      <td>270000.00</td>\n",
       "      <td>1293502.50</td>\n",
       "      <td>35698.50</td>\n",
       "      <td>...</td>\n",
       "      <td>0</td>\n",
       "      <td>0</td>\n",
       "      <td>0</td>\n",
       "      <td>0</td>\n",
       "      <td>0.00</td>\n",
       "      <td>0.00</td>\n",
       "      <td>0.00</td>\n",
       "      <td>0.00</td>\n",
       "      <td>0.00</td>\n",
       "      <td>0.00</td>\n",
       "    </tr>\n",
       "    <tr>\n",
       "      <th>2</th>\n",
       "      <td>100004</td>\n",
       "      <td>0</td>\n",
       "      <td>Revolving loans</td>\n",
       "      <td>M</td>\n",
       "      <td>Y</td>\n",
       "      <td>Y</td>\n",
       "      <td>0</td>\n",
       "      <td>67500.00</td>\n",
       "      <td>135000.00</td>\n",
       "      <td>6750.00</td>\n",
       "      <td>...</td>\n",
       "      <td>0</td>\n",
       "      <td>0</td>\n",
       "      <td>0</td>\n",
       "      <td>0</td>\n",
       "      <td>0.00</td>\n",
       "      <td>0.00</td>\n",
       "      <td>0.00</td>\n",
       "      <td>0.00</td>\n",
       "      <td>0.00</td>\n",
       "      <td>0.00</td>\n",
       "    </tr>\n",
       "    <tr>\n",
       "      <th>3</th>\n",
       "      <td>100006</td>\n",
       "      <td>0</td>\n",
       "      <td>Cash loans</td>\n",
       "      <td>F</td>\n",
       "      <td>N</td>\n",
       "      <td>Y</td>\n",
       "      <td>0</td>\n",
       "      <td>135000.00</td>\n",
       "      <td>312682.50</td>\n",
       "      <td>29686.50</td>\n",
       "      <td>...</td>\n",
       "      <td>0</td>\n",
       "      <td>0</td>\n",
       "      <td>0</td>\n",
       "      <td>0</td>\n",
       "      <td>NaN</td>\n",
       "      <td>NaN</td>\n",
       "      <td>NaN</td>\n",
       "      <td>NaN</td>\n",
       "      <td>NaN</td>\n",
       "      <td>NaN</td>\n",
       "    </tr>\n",
       "    <tr>\n",
       "      <th>4</th>\n",
       "      <td>100007</td>\n",
       "      <td>0</td>\n",
       "      <td>Cash loans</td>\n",
       "      <td>M</td>\n",
       "      <td>N</td>\n",
       "      <td>Y</td>\n",
       "      <td>0</td>\n",
       "      <td>121500.00</td>\n",
       "      <td>513000.00</td>\n",
       "      <td>21865.50</td>\n",
       "      <td>...</td>\n",
       "      <td>0</td>\n",
       "      <td>0</td>\n",
       "      <td>0</td>\n",
       "      <td>0</td>\n",
       "      <td>0.00</td>\n",
       "      <td>0.00</td>\n",
       "      <td>0.00</td>\n",
       "      <td>0.00</td>\n",
       "      <td>0.00</td>\n",
       "      <td>0.00</td>\n",
       "    </tr>\n",
       "  </tbody>\n",
       "</table>\n",
       "<p>5 rows × 73 columns</p>\n",
       "</div>"
      ],
      "text/plain": [
       "   SK_ID_CURR  TARGET NAME_CONTRACT_TYPE CODE_GENDER FLAG_OWN_CAR  \\\n",
       "0      100002       1         Cash loans           M            N   \n",
       "1      100003       0         Cash loans           F            N   \n",
       "2      100004       0    Revolving loans           M            Y   \n",
       "3      100006       0         Cash loans           F            N   \n",
       "4      100007       0         Cash loans           M            N   \n",
       "\n",
       "  FLAG_OWN_REALTY  CNT_CHILDREN  AMT_INCOME_TOTAL  AMT_CREDIT  AMT_ANNUITY  \\\n",
       "0               Y             0         202500.00   406597.50     24700.50   \n",
       "1               N             0         270000.00  1293502.50     35698.50   \n",
       "2               Y             0          67500.00   135000.00      6750.00   \n",
       "3               Y             0         135000.00   312682.50     29686.50   \n",
       "4               Y             0         121500.00   513000.00     21865.50   \n",
       "\n",
       "   ...  FLAG_DOCUMENT_18 FLAG_DOCUMENT_19 FLAG_DOCUMENT_20 FLAG_DOCUMENT_21  \\\n",
       "0  ...                 0                0                0                0   \n",
       "1  ...                 0                0                0                0   \n",
       "2  ...                 0                0                0                0   \n",
       "3  ...                 0                0                0                0   \n",
       "4  ...                 0                0                0                0   \n",
       "\n",
       "  AMT_REQ_CREDIT_BUREAU_HOUR AMT_REQ_CREDIT_BUREAU_DAY  \\\n",
       "0                       0.00                      0.00   \n",
       "1                       0.00                      0.00   \n",
       "2                       0.00                      0.00   \n",
       "3                        NaN                       NaN   \n",
       "4                       0.00                      0.00   \n",
       "\n",
       "   AMT_REQ_CREDIT_BUREAU_WEEK  AMT_REQ_CREDIT_BUREAU_MON  \\\n",
       "0                        0.00                       0.00   \n",
       "1                        0.00                       0.00   \n",
       "2                        0.00                       0.00   \n",
       "3                         NaN                        NaN   \n",
       "4                        0.00                       0.00   \n",
       "\n",
       "   AMT_REQ_CREDIT_BUREAU_QRT  AMT_REQ_CREDIT_BUREAU_YEAR  \n",
       "0                       0.00                        1.00  \n",
       "1                       0.00                        0.00  \n",
       "2                       0.00                        0.00  \n",
       "3                        NaN                         NaN  \n",
       "4                       0.00                        0.00  \n",
       "\n",
       "[5 rows x 73 columns]"
      ]
     },
     "execution_count": 418,
     "metadata": {},
     "output_type": "execute_result"
    }
   ],
   "source": [
    "applications.head()"
   ]
  },
  {
   "cell_type": "markdown",
   "id": "07e2d4fc-d338-4447-b894-c5086bdd9978",
   "metadata": {},
   "source": [
    "# Data Cleaning and removing null value"
   ]
  },
  {
   "cell_type": "markdown",
   "id": "9057604e-0e2d-4e9f-b65b-214cba26cb7c",
   "metadata": {},
   "source": [
    "# Column: AMT_GOODS_PRICE\n",
    "\n",
    "For consumer loans it is the price of the goods for which the loan is given"
   ]
  },
  {
   "cell_type": "code",
   "execution_count": 420,
   "id": "e4fc0007-3e98-4afb-855d-5c0b6921f7df",
   "metadata": {},
   "outputs": [
    {
     "data": {
      "text/plain": [
       "450000.0"
      ]
     },
     "execution_count": 420,
     "metadata": {},
     "output_type": "execute_result"
    }
   ],
   "source": [
    "# Taking out median of AMT_GOODS_PRICE\n",
    "applications['AMT_GOODS_PRICE'].median()"
   ]
  },
  {
   "cell_type": "code",
   "execution_count": 422,
   "id": "5c646209-3e31-4272-bb10-4584feba4123",
   "metadata": {},
   "outputs": [],
   "source": [
    "# filling null values with median\n",
    "applications['AMT_GOODS_PRICE'] = df1['AMT_GOODS_PRICE'].fillna(450000)"
   ]
  },
  {
   "cell_type": "code",
   "execution_count": 424,
   "id": "fec292e7-37f1-473f-b307-f7dec220d10f",
   "metadata": {},
   "outputs": [
    {
     "data": {
      "text/plain": [
       "0"
      ]
     },
     "execution_count": 424,
     "metadata": {},
     "output_type": "execute_result"
    }
   ],
   "source": [
    "# checking if all null values are removed\n",
    "applications[\"AMT_GOODS_PRICE\"].isnull().sum()"
   ]
  },
  {
   "cell_type": "markdown",
   "id": "2feef803-692b-48ff-8d4f-52ba745bf72c",
   "metadata": {},
   "source": [
    "# Column: OCCUPATION_TYPE\n",
    "\n",
    "What kind of occupation does the client have"
   ]
  },
  {
   "cell_type": "code",
   "execution_count": 430,
   "id": "02f7dbaf-c4eb-4f52-a534-faca090ab735",
   "metadata": {},
   "outputs": [],
   "source": [
    "# given Unknown because Unknown column has highest values\n",
    "applications['OCCUPATION_TYPE'] = df1['OCCUPATION_TYPE'].fillna('Unknown')"
   ]
  },
  {
   "cell_type": "code",
   "execution_count": 432,
   "id": "61f87095-13a2-4a4b-bad9-0d8166e74471",
   "metadata": {},
   "outputs": [
    {
     "data": {
      "text/plain": [
       "0"
      ]
     },
     "execution_count": 432,
     "metadata": {},
     "output_type": "execute_result"
    }
   ],
   "source": [
    "applications['OCCUPATION_TYPE'].isnull().sum()"
   ]
  },
  {
   "cell_type": "code",
   "execution_count": 435,
   "id": "0319f1ad-26c7-47aa-8632-ad64bd5f8373",
   "metadata": {
    "scrolled": true
   },
   "outputs": [
    {
     "data": {
      "text/plain": [
       "SK_ID_CURR                     0.00\n",
       "TARGET                         0.00\n",
       "NAME_CONTRACT_TYPE             0.00\n",
       "CODE_GENDER                    0.00\n",
       "FLAG_OWN_CAR                   0.00\n",
       "FLAG_OWN_REALTY                0.00\n",
       "CNT_CHILDREN                   0.00\n",
       "AMT_INCOME_TOTAL               0.00\n",
       "AMT_CREDIT                     0.00\n",
       "AMT_ANNUITY                    0.00\n",
       "AMT_GOODS_PRICE                0.00\n",
       "NAME_TYPE_SUITE                0.42\n",
       "NAME_INCOME_TYPE               0.00\n",
       "NAME_EDUCATION_TYPE            0.00\n",
       "NAME_FAMILY_STATUS             0.00\n",
       "NAME_HOUSING_TYPE              0.00\n",
       "REGION_POPULATION_RELATIVE     0.00\n",
       "DAYS_BIRTH                     0.00\n",
       "DAYS_EMPLOYED                  0.00\n",
       "DAYS_REGISTRATION              0.00\n",
       "DAYS_ID_PUBLISH                0.00\n",
       "FLAG_MOBIL                     0.00\n",
       "FLAG_EMP_PHONE                 0.00\n",
       "FLAG_WORK_PHONE                0.00\n",
       "FLAG_CONT_MOBILE               0.00\n",
       "FLAG_PHONE                     0.00\n",
       "FLAG_EMAIL                     0.00\n",
       "OCCUPATION_TYPE                0.00\n",
       "CNT_FAM_MEMBERS                0.00\n",
       "REGION_RATING_CLIENT           0.00\n",
       "REGION_RATING_CLIENT_W_CITY    0.00\n",
       "WEEKDAY_APPR_PROCESS_START     0.00\n",
       "HOUR_APPR_PROCESS_START        0.00\n",
       "REG_REGION_NOT_LIVE_REGION     0.00\n",
       "REG_REGION_NOT_WORK_REGION     0.00\n",
       "LIVE_REGION_NOT_WORK_REGION    0.00\n",
       "REG_CITY_NOT_LIVE_CITY         0.00\n",
       "REG_CITY_NOT_WORK_CITY         0.00\n",
       "LIVE_CITY_NOT_WORK_CITY        0.00\n",
       "ORGANIZATION_TYPE              0.00\n",
       "EXT_SOURCE_2                   0.21\n",
       "EXT_SOURCE_3                  19.83\n",
       "OBS_30_CNT_SOCIAL_CIRCLE       0.33\n",
       "DEF_30_CNT_SOCIAL_CIRCLE       0.33\n",
       "OBS_60_CNT_SOCIAL_CIRCLE       0.33\n",
       "DEF_60_CNT_SOCIAL_CIRCLE       0.33\n",
       "DAYS_LAST_PHONE_CHANGE         0.00\n",
       "FLAG_DOCUMENT_2                0.00\n",
       "FLAG_DOCUMENT_3                0.00\n",
       "FLAG_DOCUMENT_4                0.00\n",
       "FLAG_DOCUMENT_5                0.00\n",
       "FLAG_DOCUMENT_6                0.00\n",
       "FLAG_DOCUMENT_7                0.00\n",
       "FLAG_DOCUMENT_8                0.00\n",
       "FLAG_DOCUMENT_9                0.00\n",
       "FLAG_DOCUMENT_10               0.00\n",
       "FLAG_DOCUMENT_11               0.00\n",
       "FLAG_DOCUMENT_12               0.00\n",
       "FLAG_DOCUMENT_13               0.00\n",
       "FLAG_DOCUMENT_14               0.00\n",
       "FLAG_DOCUMENT_15               0.00\n",
       "FLAG_DOCUMENT_16               0.00\n",
       "FLAG_DOCUMENT_17               0.00\n",
       "FLAG_DOCUMENT_18               0.00\n",
       "FLAG_DOCUMENT_19               0.00\n",
       "FLAG_DOCUMENT_20               0.00\n",
       "FLAG_DOCUMENT_21               0.00\n",
       "AMT_REQ_CREDIT_BUREAU_HOUR    13.50\n",
       "AMT_REQ_CREDIT_BUREAU_DAY     13.50\n",
       "AMT_REQ_CREDIT_BUREAU_WEEK    13.50\n",
       "AMT_REQ_CREDIT_BUREAU_MON     13.50\n",
       "AMT_REQ_CREDIT_BUREAU_QRT     13.50\n",
       "AMT_REQ_CREDIT_BUREAU_YEAR    13.50\n",
       "dtype: float64"
      ]
     },
     "execution_count": 435,
     "metadata": {},
     "output_type": "execute_result"
    }
   ],
   "source": [
    "# checking remaining columns with null value\n",
    "\n",
    "(applications.isnull().sum()/len(applications.index))*100"
   ]
  },
  {
   "cell_type": "markdown",
   "id": "ae5c2e0e-a2ae-4dfc-9d57-81a7db8383d4",
   "metadata": {},
   "source": [
    "# Column: NAME_TYPE_SUITE\n",
    "\n",
    "Who was accompanying client when he was applying for the loan\n",
    " "
   ]
  },
  {
   "cell_type": "code",
   "execution_count": 437,
   "id": "805e2b29-ce09-42e2-a8d7-e2dc66619cbb",
   "metadata": {},
   "outputs": [
    {
     "data": {
      "text/plain": [
       "1292"
      ]
     },
     "execution_count": 437,
     "metadata": {},
     "output_type": "execute_result"
    }
   ],
   "source": [
    "# finding number of null values\n",
    "applications['NAME_TYPE_SUITE'].isnull().sum()"
   ]
  },
  {
   "cell_type": "code",
   "execution_count": 439,
   "id": "61dc737b-1784-42ca-a645-b61498283848",
   "metadata": {},
   "outputs": [
    {
     "data": {
      "text/plain": [
       "NAME_TYPE_SUITE\n",
       "Unaccompanied      248526\n",
       "Family              40149\n",
       "Spouse, partner     11370\n",
       "Children             3267\n",
       "Other_B              1770\n",
       "Other_A               866\n",
       "Group of people       271\n",
       "Name: count, dtype: int64"
      ]
     },
     "execution_count": 439,
     "metadata": {},
     "output_type": "execute_result"
    }
   ],
   "source": [
    "# finding value count\n",
    "applications[\"NAME_TYPE_SUITE\"].value_counts()"
   ]
  },
  {
   "cell_type": "code",
   "execution_count": 441,
   "id": "1dfe17c8-db2f-4de8-a588-29d8760f5782",
   "metadata": {},
   "outputs": [],
   "source": [
    "# filling null columns with as Unaccompained\n",
    "applications[\"NAME_TYPE_SUITE\"] = applications[\"NAME_TYPE_SUITE\"].fillna(\"Unaccompanied\")"
   ]
  },
  {
   "cell_type": "code",
   "execution_count": 442,
   "id": "83ee3fc7-9f06-4149-a2d4-719d8f10c729",
   "metadata": {},
   "outputs": [
    {
     "data": {
      "text/plain": [
       "0"
      ]
     },
     "execution_count": 442,
     "metadata": {},
     "output_type": "execute_result"
    }
   ],
   "source": [
    "#checking if any values is remained null or not\n",
    "applications['NAME_TYPE_SUITE'].isnull().sum()"
   ]
  },
  {
   "cell_type": "markdown",
   "id": "47ec7bba-788f-483f-abae-c333df98125b",
   "metadata": {},
   "source": [
    "# Column = AMT_ANNUITY"
   ]
  },
  {
   "cell_type": "code",
   "execution_count": 464,
   "id": "eb5ae728-68f1-4d11-a4d0-1552cca60eaa",
   "metadata": {},
   "outputs": [
    {
     "data": {
      "text/plain": [
       "0"
      ]
     },
     "execution_count": 464,
     "metadata": {},
     "output_type": "execute_result"
    }
   ],
   "source": [
    "# finding the number  of null values in AMT_ANNUITY column\n",
    "applications['AMT_ANNUITY'].isnull().sum()"
   ]
  },
  {
   "cell_type": "code",
   "execution_count": 466,
   "id": "b967a889-6c94-4b6a-8e52-a1a2be591fa4",
   "metadata": {},
   "outputs": [
    {
     "data": {
      "text/plain": [
       "24903.0"
      ]
     },
     "execution_count": 466,
     "metadata": {},
     "output_type": "execute_result"
    }
   ],
   "source": [
    "#finding median\n",
    "applications[\"AMT_ANNUITY\"].median()"
   ]
  },
  {
   "cell_type": "code",
   "execution_count": 468,
   "id": "e01b31da-fd30-4873-8463-c786f41e1723",
   "metadata": {},
   "outputs": [],
   "source": [
    "# there are only 12 null values so we are directly filling null values with median\n",
    "applications[\"AMT_ANNUITY\"] = df1[\"AMT_ANNUITY\"].fillna(24903.0)"
   ]
  },
  {
   "cell_type": "code",
   "execution_count": 470,
   "id": "08905f7f-e137-491b-a6ff-05aedd3541d7",
   "metadata": {},
   "outputs": [
    {
     "data": {
      "text/plain": [
       "0"
      ]
     },
     "execution_count": 470,
     "metadata": {},
     "output_type": "execute_result"
    }
   ],
   "source": [
    "applications['AMT_ANNUITY'].isnull().sum()"
   ]
  },
  {
   "cell_type": "code",
   "execution_count": null,
   "id": "2de0d1d3-1bed-4f3a-80ad-e5a5d20aea45",
   "metadata": {},
   "outputs": [],
   "source": [
    "#This columns are worthless in analysis\n",
    "applications.drop([\n",
    "    \"FLAG_MOBIL\", \"FLAG_EMP_PHONE\", \"FLAG_WORK_PHONE\", \"FLAG_CONT_MOBILE\", \"FLAG_PHONE\", \n",
    "    \"REGION_RATING_CLIENT\", \"REGION_RATING_CLIENT_W_CITY\", \"FLAG_EMAIL\", \n",
    "    \"DAYS_LAST_PHONE_CHANGE\", \"FLAG_DOCUMENT_2\", \"FLAG_DOCUMENT_3\", \"FLAG_DOCUMENT_4\", \n",
    "    \"FLAG_DOCUMENT_5\", \"FLAG_DOCUMENT_6\", \"FLAG_DOCUMENT_7\", \"FLAG_DOCUMENT_8\", \n",
    "    \"FLAG_DOCUMENT_9\", \"FLAG_DOCUMENT_10\", \"FLAG_DOCUMENT_11\", \"FLAG_DOCUMENT_12\", \n",
    "    \"FLAG_DOCUMENT_13\", \"FLAG_DOCUMENT_14\", \"FLAG_DOCUMENT_15\", \"FLAG_DOCUMENT_16\", \n",
    "    \"FLAG_DOCUMENT_17\", \"FLAG_DOCUMENT_18\", \"FLAG_DOCUMENT_19\", \"FLAG_DOCUMENT_20\", \n",
    "    \"FLAG_DOCUMENT_21\", \"EXT_SOURCE_2\", \"EXT_SOURCE_3\"\n",
    "], axis=1, inplace=True)"
   ]
  },
  {
   "cell_type": "code",
   "execution_count": 474,
   "id": "d8e3ea6e-6830-4026-8790-228ff841f58c",
   "metadata": {
    "scrolled": true
   },
   "outputs": [
    {
     "name": "stdout",
     "output_type": "stream",
     "text": [
      "<class 'pandas.core.frame.DataFrame'>\n",
      "RangeIndex: 307511 entries, 0 to 307510\n",
      "Data columns (total 42 columns):\n",
      " #   Column                       Non-Null Count   Dtype  \n",
      "---  ------                       --------------   -----  \n",
      " 0   SK_ID_CURR                   307511 non-null  int64  \n",
      " 1   TARGET                       307511 non-null  int64  \n",
      " 2   NAME_CONTRACT_TYPE           307511 non-null  object \n",
      " 3   CODE_GENDER                  307511 non-null  object \n",
      " 4   FLAG_OWN_CAR                 307511 non-null  object \n",
      " 5   FLAG_OWN_REALTY              307511 non-null  object \n",
      " 6   CNT_CHILDREN                 307511 non-null  int64  \n",
      " 7   AMT_INCOME_TOTAL             307511 non-null  float64\n",
      " 8   AMT_CREDIT                   307511 non-null  float64\n",
      " 9   AMT_ANNUITY                  307511 non-null  float64\n",
      " 10  AMT_GOODS_PRICE              307511 non-null  float64\n",
      " 11  NAME_TYPE_SUITE              307511 non-null  object \n",
      " 12  NAME_INCOME_TYPE             307511 non-null  object \n",
      " 13  NAME_EDUCATION_TYPE          307511 non-null  object \n",
      " 14  NAME_FAMILY_STATUS           307511 non-null  object \n",
      " 15  NAME_HOUSING_TYPE            307511 non-null  object \n",
      " 16  REGION_POPULATION_RELATIVE   307511 non-null  float64\n",
      " 17  DAYS_BIRTH                   307511 non-null  int64  \n",
      " 18  DAYS_EMPLOYED                307511 non-null  int64  \n",
      " 19  DAYS_REGISTRATION            307511 non-null  float64\n",
      " 20  DAYS_ID_PUBLISH              307511 non-null  int64  \n",
      " 21  OCCUPATION_TYPE              307511 non-null  object \n",
      " 22  CNT_FAM_MEMBERS              307509 non-null  float64\n",
      " 23  WEEKDAY_APPR_PROCESS_START   307511 non-null  object \n",
      " 24  HOUR_APPR_PROCESS_START      307511 non-null  int64  \n",
      " 25  REG_REGION_NOT_LIVE_REGION   307511 non-null  int64  \n",
      " 26  REG_REGION_NOT_WORK_REGION   307511 non-null  int64  \n",
      " 27  LIVE_REGION_NOT_WORK_REGION  307511 non-null  int64  \n",
      " 28  REG_CITY_NOT_LIVE_CITY       307511 non-null  int64  \n",
      " 29  REG_CITY_NOT_WORK_CITY       307511 non-null  int64  \n",
      " 30  LIVE_CITY_NOT_WORK_CITY      307511 non-null  int64  \n",
      " 31  ORGANIZATION_TYPE            307511 non-null  object \n",
      " 32  OBS_30_CNT_SOCIAL_CIRCLE     306490 non-null  float64\n",
      " 33  DEF_30_CNT_SOCIAL_CIRCLE     306490 non-null  float64\n",
      " 34  OBS_60_CNT_SOCIAL_CIRCLE     306490 non-null  float64\n",
      " 35  DEF_60_CNT_SOCIAL_CIRCLE     306490 non-null  float64\n",
      " 36  AMT_REQ_CREDIT_BUREAU_HOUR   265992 non-null  float64\n",
      " 37  AMT_REQ_CREDIT_BUREAU_DAY    265992 non-null  float64\n",
      " 38  AMT_REQ_CREDIT_BUREAU_WEEK   265992 non-null  float64\n",
      " 39  AMT_REQ_CREDIT_BUREAU_MON    265992 non-null  float64\n",
      " 40  AMT_REQ_CREDIT_BUREAU_QRT    265992 non-null  float64\n",
      " 41  AMT_REQ_CREDIT_BUREAU_YEAR   265992 non-null  float64\n",
      "dtypes: float64(17), int64(13), object(12)\n",
      "memory usage: 98.5+ MB\n"
     ]
    }
   ],
   "source": [
    "#taking out info about remaining columns\n",
    "applications.info()"
   ]
  },
  {
   "cell_type": "code",
   "execution_count": 476,
   "id": "737bbcbb-c48a-4b5d-b923-e9b3c5bac39c",
   "metadata": {
    "scrolled": true
   },
   "outputs": [
    {
     "data": {
      "text/plain": [
       "SK_ID_CURR                         0\n",
       "TARGET                             0\n",
       "NAME_CONTRACT_TYPE                 0\n",
       "CODE_GENDER                        0\n",
       "FLAG_OWN_CAR                       0\n",
       "FLAG_OWN_REALTY                    0\n",
       "CNT_CHILDREN                       0\n",
       "AMT_INCOME_TOTAL                   0\n",
       "AMT_CREDIT                         0\n",
       "AMT_ANNUITY                        0\n",
       "AMT_GOODS_PRICE                    0\n",
       "NAME_TYPE_SUITE                    0\n",
       "NAME_INCOME_TYPE                   0\n",
       "NAME_EDUCATION_TYPE                0\n",
       "NAME_FAMILY_STATUS                 0\n",
       "NAME_HOUSING_TYPE                  0\n",
       "REGION_POPULATION_RELATIVE         0\n",
       "DAYS_BIRTH                         0\n",
       "DAYS_EMPLOYED                      0\n",
       "DAYS_REGISTRATION                  0\n",
       "DAYS_ID_PUBLISH                    0\n",
       "OCCUPATION_TYPE                    0\n",
       "CNT_FAM_MEMBERS                    2\n",
       "WEEKDAY_APPR_PROCESS_START         0\n",
       "HOUR_APPR_PROCESS_START            0\n",
       "REG_REGION_NOT_LIVE_REGION         0\n",
       "REG_REGION_NOT_WORK_REGION         0\n",
       "LIVE_REGION_NOT_WORK_REGION        0\n",
       "REG_CITY_NOT_LIVE_CITY             0\n",
       "REG_CITY_NOT_WORK_CITY             0\n",
       "LIVE_CITY_NOT_WORK_CITY            0\n",
       "ORGANIZATION_TYPE                  0\n",
       "OBS_30_CNT_SOCIAL_CIRCLE        1021\n",
       "DEF_30_CNT_SOCIAL_CIRCLE        1021\n",
       "OBS_60_CNT_SOCIAL_CIRCLE        1021\n",
       "DEF_60_CNT_SOCIAL_CIRCLE        1021\n",
       "AMT_REQ_CREDIT_BUREAU_HOUR     41519\n",
       "AMT_REQ_CREDIT_BUREAU_DAY      41519\n",
       "AMT_REQ_CREDIT_BUREAU_WEEK     41519\n",
       "AMT_REQ_CREDIT_BUREAU_MON      41519\n",
       "AMT_REQ_CREDIT_BUREAU_QRT      41519\n",
       "AMT_REQ_CREDIT_BUREAU_YEAR     41519\n",
       "dtype: int64"
      ]
     },
     "execution_count": 476,
     "metadata": {},
     "output_type": "execute_result"
    }
   ],
   "source": [
    "applications.isnull().sum()"
   ]
  },
  {
   "cell_type": "code",
   "execution_count": 481,
   "id": "ce618a1c-5b1b-4f82-bd32-576f9899dcea",
   "metadata": {
    "scrolled": true
   },
   "outputs": [
    {
     "data": {
      "text/plain": [
       "SK_ID_CURR                     0.00\n",
       "TARGET                         0.00\n",
       "NAME_CONTRACT_TYPE             0.00\n",
       "CODE_GENDER                    0.00\n",
       "FLAG_OWN_CAR                   0.00\n",
       "FLAG_OWN_REALTY                0.00\n",
       "CNT_CHILDREN                   0.00\n",
       "AMT_INCOME_TOTAL               0.00\n",
       "AMT_CREDIT                     0.00\n",
       "AMT_ANNUITY                    0.00\n",
       "AMT_GOODS_PRICE                0.00\n",
       "NAME_TYPE_SUITE                0.00\n",
       "NAME_INCOME_TYPE               0.00\n",
       "NAME_EDUCATION_TYPE            0.00\n",
       "NAME_FAMILY_STATUS             0.00\n",
       "NAME_HOUSING_TYPE              0.00\n",
       "REGION_POPULATION_RELATIVE     0.00\n",
       "DAYS_BIRTH                     0.00\n",
       "DAYS_EMPLOYED                  0.00\n",
       "DAYS_REGISTRATION              0.00\n",
       "DAYS_ID_PUBLISH                0.00\n",
       "OCCUPATION_TYPE                0.00\n",
       "CNT_FAM_MEMBERS                0.00\n",
       "WEEKDAY_APPR_PROCESS_START     0.00\n",
       "HOUR_APPR_PROCESS_START        0.00\n",
       "REG_REGION_NOT_LIVE_REGION     0.00\n",
       "REG_REGION_NOT_WORK_REGION     0.00\n",
       "LIVE_REGION_NOT_WORK_REGION    0.00\n",
       "REG_CITY_NOT_LIVE_CITY         0.00\n",
       "REG_CITY_NOT_WORK_CITY         0.00\n",
       "LIVE_CITY_NOT_WORK_CITY        0.00\n",
       "ORGANIZATION_TYPE              0.00\n",
       "OBS_30_CNT_SOCIAL_CIRCLE       0.33\n",
       "DEF_30_CNT_SOCIAL_CIRCLE       0.33\n",
       "OBS_60_CNT_SOCIAL_CIRCLE       0.33\n",
       "DEF_60_CNT_SOCIAL_CIRCLE       0.33\n",
       "AMT_REQ_CREDIT_BUREAU_HOUR    13.50\n",
       "AMT_REQ_CREDIT_BUREAU_DAY     13.50\n",
       "AMT_REQ_CREDIT_BUREAU_WEEK    13.50\n",
       "AMT_REQ_CREDIT_BUREAU_MON     13.50\n",
       "AMT_REQ_CREDIT_BUREAU_QRT     13.50\n",
       "AMT_REQ_CREDIT_BUREAU_YEAR    13.50\n",
       "dtype: float64"
      ]
     },
     "execution_count": 481,
     "metadata": {},
     "output_type": "execute_result"
    }
   ],
   "source": [
    "(applications.isnull().sum()/len(applications.index))*100"
   ]
  },
  {
   "cell_type": "markdown",
   "id": "0c6c03e8-ead5-4ae2-a865-3be93c8cee95",
   "metadata": {},
   "source": [
    "# Columns = \n",
    "    OBS_30_CNT_SOCIAL_CIRCLE, \n",
    "    DEF_30_CNT_SOCIAL_CIRCLE, \n",
    "    DEF_60_CNT_SOCIAL_CIRCLE,\n",
    "    OBS_60_CNT_SOCIAL_CIRCLE \n",
    "\n",
    "    "
   ]
  },
  {
   "cell_type": "code",
   "execution_count": 484,
   "id": "6b2dbc41-eaba-42e7-ab25-59f751e75fdb",
   "metadata": {},
   "outputs": [
    {
     "data": {
      "text/plain": [
       "0.0"
      ]
     },
     "execution_count": 484,
     "metadata": {},
     "output_type": "execute_result"
    }
   ],
   "source": [
    "applications['OBS_30_CNT_SOCIAL_CIRCLE'].median()"
   ]
  },
  {
   "cell_type": "code",
   "execution_count": 486,
   "id": "79868c1a-1d2b-4600-b360-9123e0a87fb5",
   "metadata": {},
   "outputs": [
    {
     "data": {
      "text/plain": [
       "{'whiskers': [<matplotlib.lines.Line2D at 0x1ec372d98e0>,\n",
       "  <matplotlib.lines.Line2D at 0x1ec372d9820>],\n",
       " 'caps': [<matplotlib.lines.Line2D at 0x1ec372d8380>,\n",
       "  <matplotlib.lines.Line2D at 0x1ec472e4470>],\n",
       " 'boxes': [<matplotlib.lines.Line2D at 0x1ec372dbec0>],\n",
       " 'medians': [<matplotlib.lines.Line2D at 0x1ec5dd732c0>],\n",
       " 'fliers': [<matplotlib.lines.Line2D at 0x1ec5dd718b0>],\n",
       " 'means': []}"
      ]
     },
     "execution_count": 486,
     "metadata": {},
     "output_type": "execute_result"
    },
    {
     "data": {
      "image/png": "[encoded data removed]",
      "text/plain": [
       "<Figure size 640x480 with 1 Axes>"
      ]
     },
     "metadata": {},
     "output_type": "display_data"
    }
   ],
   "source": [
    "plt.boxplot(applications.OBS_30_CNT_SOCIAL_CIRCLE)"
   ]
  },
  {
   "cell_type": "code",
   "execution_count": 488,
   "id": "1900f67e-c38b-469b-96cb-ef59eaa1d141",
   "metadata": {},
   "outputs": [
    {
     "data": {
      "text/plain": [
       "{'whiskers': [<matplotlib.lines.Line2D at 0x1ec496e3ad0>,\n",
       "  <matplotlib.lines.Line2D at 0x1ec496e2870>],\n",
       " 'caps': [<matplotlib.lines.Line2D at 0x1ec496e12b0>,\n",
       "  <matplotlib.lines.Line2D at 0x1ec496e2f60>],\n",
       " 'boxes': [<matplotlib.lines.Line2D at 0x1ec496e0230>],\n",
       " 'medians': [<matplotlib.lines.Line2D at 0x1ec496e0a10>],\n",
       " 'fliers': [<matplotlib.lines.Line2D at 0x1ec496e1a00>],\n",
       " 'means': []}"
      ]
     },
     "execution_count": 488,
     "metadata": {},
     "output_type": "execute_result"
    },
    {
     "data": {
      "image/png": "[encoded data removed]",
      "text/plain": [
       "<Figure size 640x480 with 1 Axes>"
      ]
     },
     "metadata": {},
     "output_type": "display_data"
    }
   ],
   "source": [
    "plt.boxplot(applications.DEF_30_CNT_SOCIAL_CIRCLE)"
   ]
  },
  {
   "cell_type": "code",
   "execution_count": 210,
   "id": "a8bc10d9-b41d-48d3-834b-24b6e9ebf2c8",
   "metadata": {},
   "outputs": [
    {
     "data": {
      "text/plain": [
       "{'whiskers': [<matplotlib.lines.Line2D at 0x1ec5a7c8560>,\n",
       "  <matplotlib.lines.Line2D at 0x1ec5a7cba40>],\n",
       " 'caps': [<matplotlib.lines.Line2D at 0x1ec5a7c9bb0>,\n",
       "  <matplotlib.lines.Line2D at 0x1ec5a7ca3c0>],\n",
       " 'boxes': [<matplotlib.lines.Line2D at 0x1ec5a7cae70>],\n",
       " 'medians': [<matplotlib.lines.Line2D at 0x1ec5a7c8500>],\n",
       " 'fliers': [<matplotlib.lines.Line2D at 0x1ec5a7c8da0>],\n",
       " 'means': []}"
      ]
     },
     "execution_count": 210,
     "metadata": {},
     "output_type": "execute_result"
    },
    {
     "data": {
      "image/png": "[encoded data removed]",
      "text/plain": [
       "<Figure size 640x480 with 1 Axes>"
      ]
     },
     "metadata": {},
     "output_type": "display_data"
    }
   ],
   "source": [
    "plt.boxplot(df1.DEF_60_CNT_SOCIAL_CIRCLE)"
   ]
  },
  {
   "cell_type": "code",
   "execution_count": 490,
   "id": "06553f49-e8d2-4bbc-adb5-0f0263afd222",
   "metadata": {},
   "outputs": [
    {
     "data": {
      "text/plain": [
       "{'whiskers': [<matplotlib.lines.Line2D at 0x1ec3d7e2c00>,\n",
       "  <matplotlib.lines.Line2D at 0x1ec3d7e1a90>],\n",
       " 'caps': [<matplotlib.lines.Line2D at 0x1ec465add30>,\n",
       "  <matplotlib.lines.Line2D at 0x1ec465af680>],\n",
       " 'boxes': [<matplotlib.lines.Line2D at 0x1ec3d7e0da0>],\n",
       " 'medians': [<matplotlib.lines.Line2D at 0x1ec465ad670>],\n",
       " 'fliers': [<matplotlib.lines.Line2D at 0x1ec465afe60>],\n",
       " 'means': []}"
      ]
     },
     "execution_count": 490,
     "metadata": {},
     "output_type": "execute_result"
    },
    {
     "data": {
      "image/png": "[encoded data removed]",
      "text/plain": [
       "<Figure size 640x480 with 1 Axes>"
      ]
     },
     "metadata": {},
     "output_type": "display_data"
    }
   ],
   "source": [
    "plt.boxplot(applications.OBS_60_CNT_SOCIAL_CIRCLE)"
   ]
  },
  {
   "cell_type": "code",
   "execution_count": 492,
   "id": "88684235-7f02-4374-9435-fb345ff4b06c",
   "metadata": {},
   "outputs": [],
   "source": [
    "# Imputing missing values with median\n",
    "applications['OBS_30_CNT_SOCIAL_CIRCLE'] = applications['OBS_30_CNT_SOCIAL_CIRCLE'].fillna(applications['OBS_30_CNT_SOCIAL_CIRCLE'].median())"
   ]
  },
  {
   "cell_type": "code",
   "execution_count": 494,
   "id": "cceaa2fb-90d5-453a-aea1-cad6801400a6",
   "metadata": {},
   "outputs": [],
   "source": [
    "applications['DEF_30_CNT_SOCIAL_CIRCLE'] = applications['DEF_30_CNT_SOCIAL_CIRCLE'].fillna(applications['DEF_30_CNT_SOCIAL_CIRCLE'].median())"
   ]
  },
  {
   "cell_type": "code",
   "execution_count": 496,
   "id": "4deee91c-6967-4d35-82f1-c19fc240abcd",
   "metadata": {},
   "outputs": [],
   "source": [
    "applications['DEF_60_CNT_SOCIAL_CIRCLE'] = applications['DEF_60_CNT_SOCIAL_CIRCLE'].fillna(applications['DEF_60_CNT_SOCIAL_CIRCLE'].median())"
   ]
  },
  {
   "cell_type": "code",
   "execution_count": 498,
   "id": "39581ee6-d4a3-4157-b287-344c4b91de48",
   "metadata": {},
   "outputs": [],
   "source": [
    "applications['OBS_60_CNT_SOCIAL_CIRCLE'] = applications['OBS_60_CNT_SOCIAL_CIRCLE'].fillna(applications['OBS_60_CNT_SOCIAL_CIRCLE'].median())"
   ]
  },
  {
   "cell_type": "code",
   "execution_count": 500,
   "id": "befeb2b6-bdf3-4ea0-8d8d-c8ba0f5d3a20",
   "metadata": {},
   "outputs": [
    {
     "data": {
      "text/plain": [
       "0"
      ]
     },
     "execution_count": 500,
     "metadata": {},
     "output_type": "execute_result"
    }
   ],
   "source": [
    "applications['OBS_30_CNT_SOCIAL_CIRCLE'].isnull().sum()"
   ]
  },
  {
   "cell_type": "code",
   "execution_count": 502,
   "id": "09593511-99f8-43e4-96c6-30619335fc33",
   "metadata": {},
   "outputs": [
    {
     "data": {
      "text/plain": [
       "0"
      ]
     },
     "execution_count": 502,
     "metadata": {},
     "output_type": "execute_result"
    }
   ],
   "source": [
    "applications['DEF_30_CNT_SOCIAL_CIRCLE'].isnull().sum()"
   ]
  },
  {
   "cell_type": "code",
   "execution_count": 504,
   "id": "348c74cc-b93c-4df2-a50d-84a8adc40a7f",
   "metadata": {},
   "outputs": [
    {
     "data": {
      "text/plain": [
       "0"
      ]
     },
     "execution_count": 504,
     "metadata": {},
     "output_type": "execute_result"
    }
   ],
   "source": [
    "applications['DEF_60_CNT_SOCIAL_CIRCLE'].isnull().sum()"
   ]
  },
  {
   "cell_type": "code",
   "execution_count": 506,
   "id": "283cc0ca-a988-4d20-a2cb-4cc531603227",
   "metadata": {},
   "outputs": [
    {
     "data": {
      "text/plain": [
       "0"
      ]
     },
     "execution_count": 506,
     "metadata": {},
     "output_type": "execute_result"
    }
   ],
   "source": [
    "applications['OBS_60_CNT_SOCIAL_CIRCLE'].isnull().sum()"
   ]
  },
  {
   "cell_type": "code",
   "execution_count": 508,
   "id": "c7baa206-6ab5-43c5-a846-4c7d07a15166",
   "metadata": {
    "scrolled": true
   },
   "outputs": [
    {
     "data": {
      "text/plain": [
       "SK_ID_CURR                     0.00\n",
       "TARGET                         0.00\n",
       "NAME_CONTRACT_TYPE             0.00\n",
       "CODE_GENDER                    0.00\n",
       "FLAG_OWN_CAR                   0.00\n",
       "FLAG_OWN_REALTY                0.00\n",
       "CNT_CHILDREN                   0.00\n",
       "AMT_INCOME_TOTAL               0.00\n",
       "AMT_CREDIT                     0.00\n",
       "AMT_ANNUITY                    0.00\n",
       "AMT_GOODS_PRICE                0.00\n",
       "NAME_TYPE_SUITE                0.00\n",
       "NAME_INCOME_TYPE               0.00\n",
       "NAME_EDUCATION_TYPE            0.00\n",
       "NAME_FAMILY_STATUS             0.00\n",
       "NAME_HOUSING_TYPE              0.00\n",
       "REGION_POPULATION_RELATIVE     0.00\n",
       "DAYS_BIRTH                     0.00\n",
       "DAYS_EMPLOYED                  0.00\n",
       "DAYS_REGISTRATION              0.00\n",
       "DAYS_ID_PUBLISH                0.00\n",
       "OCCUPATION_TYPE                0.00\n",
       "CNT_FAM_MEMBERS                0.00\n",
       "WEEKDAY_APPR_PROCESS_START     0.00\n",
       "HOUR_APPR_PROCESS_START        0.00\n",
       "REG_REGION_NOT_LIVE_REGION     0.00\n",
       "REG_REGION_NOT_WORK_REGION     0.00\n",
       "LIVE_REGION_NOT_WORK_REGION    0.00\n",
       "REG_CITY_NOT_LIVE_CITY         0.00\n",
       "REG_CITY_NOT_WORK_CITY         0.00\n",
       "LIVE_CITY_NOT_WORK_CITY        0.00\n",
       "ORGANIZATION_TYPE              0.00\n",
       "OBS_30_CNT_SOCIAL_CIRCLE       0.00\n",
       "DEF_30_CNT_SOCIAL_CIRCLE       0.00\n",
       "OBS_60_CNT_SOCIAL_CIRCLE       0.00\n",
       "DEF_60_CNT_SOCIAL_CIRCLE       0.00\n",
       "AMT_REQ_CREDIT_BUREAU_HOUR    13.50\n",
       "AMT_REQ_CREDIT_BUREAU_DAY     13.50\n",
       "AMT_REQ_CREDIT_BUREAU_WEEK    13.50\n",
       "AMT_REQ_CREDIT_BUREAU_MON     13.50\n",
       "AMT_REQ_CREDIT_BUREAU_QRT     13.50\n",
       "AMT_REQ_CREDIT_BUREAU_YEAR    13.50\n",
       "dtype: float64"
      ]
     },
     "execution_count": 508,
     "metadata": {},
     "output_type": "execute_result"
    }
   ],
   "source": [
    "(applications.isnull().sum()/len(applications.index))*100"
   ]
  },
  {
   "cell_type": "markdown",
   "id": "ac6a1c41-5ad6-48de-b54f-64500f27c028",
   "metadata": {},
   "source": [
    "# Column: \n",
    "    AMT_REQ_CREDIT_BUREAU_YEAR,\n",
    "    AMT_REQ_CREDIT_BUREAU_QRT,\n",
    "    AMT_REQ_CREDIT_BUREAU_MON,\n",
    "    AMT_REQ_CREDIT_BUREAU_WEEK,\n",
    "    AMT_REQ_CREDIT_BUREAU_DAY,\n",
    "    AMT_REQ_CREDIT_BUREAU_HOUR\n",
    "\n",
    "- AMT_REQ_CREDIT_BUREAU_YEAR: Number of credit inquiries in the last year (excluding the last 3 months). Reflects credit-seeking behavior over a longer period.       \n",
    "- AMT_REQ_CREDIT_BUREAU_QRT: Number of credit inquiries in the last 3 months. Indicates recent loan-seeking activity.\n",
    "- AMT_REQ_CREDIT_BUREAU_MON: Number of credit inquiries in the last month. Shows very recent credit behavior.\n",
    "- AMT_REQ_CREDIT_BUREAU_WEEK: Number of credit inquiries in the last week. Indicates immediate credit-seeking activity.\n",
    "- AMT_REQ_CREDIT_BUREAU_DAY: Number of credit inquiries in the last day. Signals urgent financial needs.\n",
    "- AMT_REQ_CREDIT_BUREAU_HOUR: Number of credit inquiries in the last hour. Rare but indicates extreme urgency."
   ]
  },
  {
   "cell_type": "code",
   "execution_count": 242,
   "id": "7f8b3256-5038-4158-a612-61073734f28a",
   "metadata": {},
   "outputs": [],
   "source": [
    "columns_to_impute = [\n",
    "    'AMT_REQ_CREDIT_BUREAU_YEAR', \n",
    "    'AMT_REQ_CREDIT_BUREAU_QRT',\n",
    "    'AMT_REQ_CREDIT_BUREAU_MON',\n",
    "    'AMT_REQ_CREDIT_BUREAU_WEEK',\n",
    "    'AMT_REQ_CREDIT_BUREAU_DAY',\n",
    "    'AMT_REQ_CREDIT_BUREAU_HOUR'\n",
    "]"
   ]
  },
  {
   "cell_type": "code",
   "execution_count": 512,
   "id": "f63fc7db-2ee2-4e8e-9110-41c6ed120524",
   "metadata": {},
   "outputs": [
    {
     "name": "stdout",
     "output_type": "stream",
     "text": [
      "AMT_REQ_CREDIT_BUREAU_YEAR    0\n",
      "AMT_REQ_CREDIT_BUREAU_QRT     0\n",
      "AMT_REQ_CREDIT_BUREAU_MON     0\n",
      "AMT_REQ_CREDIT_BUREAU_WEEK    0\n",
      "AMT_REQ_CREDIT_BUREAU_DAY     0\n",
      "AMT_REQ_CREDIT_BUREAU_HOUR    0\n",
      "dtype: int64\n"
     ]
    }
   ],
   "source": [
    "# Imputing missing values with 0\n",
    "applications[columns_to_impute] = applications[columns_to_impute].fillna(0)\n",
    "\n",
    "# Check if imputation was successful\n",
    "print(applications[columns_to_impute].isnull().sum())"
   ]
  },
  {
   "cell_type": "code",
   "execution_count": 514,
   "id": "7e57051b-3dde-4b00-9e72-6554805eef36",
   "metadata": {
    "scrolled": true
   },
   "outputs": [
    {
     "data": {
      "text/plain": [
       "SK_ID_CURR                    0.00\n",
       "TARGET                        0.00\n",
       "NAME_CONTRACT_TYPE            0.00\n",
       "CODE_GENDER                   0.00\n",
       "FLAG_OWN_CAR                  0.00\n",
       "FLAG_OWN_REALTY               0.00\n",
       "CNT_CHILDREN                  0.00\n",
       "AMT_INCOME_TOTAL              0.00\n",
       "AMT_CREDIT                    0.00\n",
       "AMT_ANNUITY                   0.00\n",
       "AMT_GOODS_PRICE               0.00\n",
       "NAME_TYPE_SUITE               0.00\n",
       "NAME_INCOME_TYPE              0.00\n",
       "NAME_EDUCATION_TYPE           0.00\n",
       "NAME_FAMILY_STATUS            0.00\n",
       "NAME_HOUSING_TYPE             0.00\n",
       "REGION_POPULATION_RELATIVE    0.00\n",
       "DAYS_BIRTH                    0.00\n",
       "DAYS_EMPLOYED                 0.00\n",
       "DAYS_REGISTRATION             0.00\n",
       "DAYS_ID_PUBLISH               0.00\n",
       "OCCUPATION_TYPE               0.00\n",
       "CNT_FAM_MEMBERS               0.00\n",
       "WEEKDAY_APPR_PROCESS_START    0.00\n",
       "HOUR_APPR_PROCESS_START       0.00\n",
       "REG_REGION_NOT_LIVE_REGION    0.00\n",
       "REG_REGION_NOT_WORK_REGION    0.00\n",
       "LIVE_REGION_NOT_WORK_REGION   0.00\n",
       "REG_CITY_NOT_LIVE_CITY        0.00\n",
       "REG_CITY_NOT_WORK_CITY        0.00\n",
       "LIVE_CITY_NOT_WORK_CITY       0.00\n",
       "ORGANIZATION_TYPE             0.00\n",
       "OBS_30_CNT_SOCIAL_CIRCLE      0.00\n",
       "DEF_30_CNT_SOCIAL_CIRCLE      0.00\n",
       "OBS_60_CNT_SOCIAL_CIRCLE      0.00\n",
       "DEF_60_CNT_SOCIAL_CIRCLE      0.00\n",
       "AMT_REQ_CREDIT_BUREAU_HOUR    0.00\n",
       "AMT_REQ_CREDIT_BUREAU_DAY     0.00\n",
       "AMT_REQ_CREDIT_BUREAU_WEEK    0.00\n",
       "AMT_REQ_CREDIT_BUREAU_MON     0.00\n",
       "AMT_REQ_CREDIT_BUREAU_QRT     0.00\n",
       "AMT_REQ_CREDIT_BUREAU_YEAR    0.00\n",
       "dtype: float64"
      ]
     },
     "execution_count": 514,
     "metadata": {},
     "output_type": "execute_result"
    }
   ],
   "source": [
    "(applications.isnull().sum()/len(applications.index))*100"
   ]
  },
  {
   "cell_type": "code",
   "execution_count": 516,
   "id": "ce2fd262-125f-4feb-b9b3-5343c5100a8b",
   "metadata": {},
   "outputs": [],
   "source": [
    "applications['CNT_FAM_MEMBERS']=applications['CNT_FAM_MEMBERS'].fillna(applications['CNT_FAM_MEMBERS'].median())"
   ]
  },
  {
   "cell_type": "code",
   "execution_count": 518,
   "id": "01bd08ea-4f96-49bb-ba8c-67bb292bae93",
   "metadata": {},
   "outputs": [
    {
     "data": {
      "text/plain": [
       "Index(['SK_ID_CURR', 'TARGET', 'NAME_CONTRACT_TYPE', 'CODE_GENDER',\n",
       "       'FLAG_OWN_CAR', 'FLAG_OWN_REALTY', 'CNT_CHILDREN', 'AMT_INCOME_TOTAL',\n",
       "       'AMT_CREDIT', 'AMT_ANNUITY', 'AMT_GOODS_PRICE', 'NAME_TYPE_SUITE',\n",
       "       'NAME_INCOME_TYPE', 'NAME_EDUCATION_TYPE', 'NAME_FAMILY_STATUS',\n",
       "       'NAME_HOUSING_TYPE', 'REGION_POPULATION_RELATIVE', 'DAYS_BIRTH',\n",
       "       'DAYS_EMPLOYED', 'DAYS_REGISTRATION', 'DAYS_ID_PUBLISH',\n",
       "       'OCCUPATION_TYPE', 'CNT_FAM_MEMBERS', 'WEEKDAY_APPR_PROCESS_START',\n",
       "       'HOUR_APPR_PROCESS_START', 'REG_REGION_NOT_LIVE_REGION',\n",
       "       'REG_REGION_NOT_WORK_REGION', 'LIVE_REGION_NOT_WORK_REGION',\n",
       "       'REG_CITY_NOT_LIVE_CITY', 'REG_CITY_NOT_WORK_CITY',\n",
       "       'LIVE_CITY_NOT_WORK_CITY', 'ORGANIZATION_TYPE',\n",
       "       'OBS_30_CNT_SOCIAL_CIRCLE', 'DEF_30_CNT_SOCIAL_CIRCLE',\n",
       "       'OBS_60_CNT_SOCIAL_CIRCLE', 'DEF_60_CNT_SOCIAL_CIRCLE',\n",
       "       'AMT_REQ_CREDIT_BUREAU_HOUR', 'AMT_REQ_CREDIT_BUREAU_DAY',\n",
       "       'AMT_REQ_CREDIT_BUREAU_WEEK', 'AMT_REQ_CREDIT_BUREAU_MON',\n",
       "       'AMT_REQ_CREDIT_BUREAU_QRT', 'AMT_REQ_CREDIT_BUREAU_YEAR'],\n",
       "      dtype='object')"
      ]
     },
     "execution_count": 518,
     "metadata": {},
     "output_type": "execute_result"
    }
   ],
   "source": [
    "applications.columns"
   ]
  },
  {
   "cell_type": "markdown",
   "id": "02edc983-fa55-4e8f-ad66-2902c1ce8cdc",
   "metadata": {},
   "source": [
    "# Dealing with incorrect/unknown data values"
   ]
  },
  {
   "cell_type": "code",
   "execution_count": 263,
   "id": "7460995f-71d1-4c85-abbc-6308ee185b96",
   "metadata": {},
   "outputs": [
    {
     "data": {
      "text/plain": [
       "CODE_GENDER\n",
       "F      202448\n",
       "M      105059\n",
       "XNA         4\n",
       "Name: count, dtype: int64"
      ]
     },
     "execution_count": 263,
     "metadata": {},
     "output_type": "execute_result"
    }
   ],
   "source": [
    "# Analysis of CODE_GENDER columna\n",
    "\n",
    "df1['CODE_GENDER'].value_counts()"
   ]
  },
  {
   "cell_type": "code",
   "execution_count": 520,
   "id": "8dab93c0-1f2d-4662-abd5-3f90f1ade914",
   "metadata": {},
   "outputs": [
    {
     "name": "stderr",
     "output_type": "stream",
     "text": [
      "C:\\Users\\prana\\AppData\\Local\\Temp\\ipykernel_16160\\4099935292.py:2: FutureWarning: A value is trying to be set on a copy of a DataFrame or Series through chained assignment using an inplace method.\n",
      "The behavior will change in pandas 3.0. This inplace method will never work because the intermediate object on which we are setting values always behaves as a copy.\n",
      "\n",
      "For example, when doing 'df[col].method(value, inplace=True)', try using 'df.method({col: value}, inplace=True)' or df[col] = df[col].method(value) instead, to perform the operation inplace on the original object.\n",
      "\n",
      "\n",
      "  applications.CODE_GENDER.replace(to_replace='XNA',value='F',inplace=True)\n"
     ]
    }
   ],
   "source": [
    "# Replacing the 'XNA' values with the demales as majority is females and it won't affect our analysis \n",
    "applications.CODE_GENDER.replace(to_replace='XNA',value='F',inplace=True)"
   ]
  },
  {
   "cell_type": "code",
   "execution_count": 522,
   "id": "7124bd0d-9d7f-44c3-9460-28455fc17e01",
   "metadata": {},
   "outputs": [
    {
     "data": {
      "text/plain": [
       "CODE_GENDER\n",
       "F    202452\n",
       "M    105059\n",
       "Name: count, dtype: int64"
      ]
     },
     "execution_count": 522,
     "metadata": {},
     "output_type": "execute_result"
    }
   ],
   "source": [
    "# Confirming the changes \n",
    "applications.CODE_GENDER.value_counts()"
   ]
  },
  {
   "cell_type": "code",
   "execution_count": 524,
   "id": "eb20df49-b10e-4885-bdc8-7dc772f89a8a",
   "metadata": {
    "scrolled": true
   },
   "outputs": [
    {
     "data": {
      "text/plain": [
       "ORGANIZATION_TYPE\n",
       "Business Entity Type 3    67992\n",
       "XNA                       55374\n",
       "Self-employed             38412\n",
       "Other                     16683\n",
       "Medicine                  11193\n",
       "Business Entity Type 2    10553\n",
       "Government                10404\n",
       "School                     8893\n",
       "Trade: type 7              7831\n",
       "Kindergarten               6880\n",
       "Construction               6721\n",
       "Business Entity Type 1     5984\n",
       "Transport: type 4          5398\n",
       "Trade: type 3              3492\n",
       "Industry: type 9           3368\n",
       "Industry: type 3           3278\n",
       "Security                   3247\n",
       "Housing                    2958\n",
       "Industry: type 11          2704\n",
       "Military                   2634\n",
       "Bank                       2507\n",
       "Agriculture                2454\n",
       "Police                     2341\n",
       "Transport: type 2          2204\n",
       "Postal                     2157\n",
       "Security Ministries        1974\n",
       "Trade: type 2              1900\n",
       "Restaurant                 1811\n",
       "Services                   1575\n",
       "University                 1327\n",
       "Industry: type 7           1307\n",
       "Transport: type 3          1187\n",
       "Industry: type 1           1039\n",
       "Hotel                       966\n",
       "Electricity                 950\n",
       "Industry: type 4            877\n",
       "Trade: type 6               631\n",
       "Industry: type 5            599\n",
       "Insurance                   597\n",
       "Telecom                     577\n",
       "Emergency                   560\n",
       "Industry: type 2            458\n",
       "Advertising                 429\n",
       "Realtor                     396\n",
       "Culture                     379\n",
       "Industry: type 12           369\n",
       "Trade: type 1               348\n",
       "Mobile                      317\n",
       "Legal Services              305\n",
       "Cleaning                    260\n",
       "Transport: type 1           201\n",
       "Industry: type 6            112\n",
       "Industry: type 10           109\n",
       "Religion                     85\n",
       "Industry: type 13            67\n",
       "Trade: type 4                64\n",
       "Trade: type 5                49\n",
       "Industry: type 8             24\n",
       "Name: count, dtype: int64"
      ]
     },
     "execution_count": 524,
     "metadata": {},
     "output_type": "execute_result"
    }
   ],
   "source": [
    " # Now checking the Organization Column \n",
    "applications.ORGANIZATION_TYPE.value_counts()"
   ]
  },
  {
   "cell_type": "code",
   "execution_count": 526,
   "id": "e5b15bb0-571a-45cc-b498-8df81c0f3d1c",
   "metadata": {},
   "outputs": [],
   "source": [
    "# As 55374 vales are XNA therefore we have to drop XNA \n",
    "applications = applications.drop(applications[applications['ORGANIZATION_TYPE'] == 'XNA'].index, axis=0)"
   ]
  },
  {
   "cell_type": "code",
   "execution_count": 528,
   "id": "4b8114fe-bec0-4a7f-8a51-7f4f3154b42b",
   "metadata": {
    "scrolled": true
   },
   "outputs": [
    {
     "data": {
      "text/plain": [
       "ORGANIZATION_TYPE\n",
       "Business Entity Type 3    67992\n",
       "Self-employed             38412\n",
       "Other                     16683\n",
       "Medicine                  11193\n",
       "Business Entity Type 2    10553\n",
       "Government                10404\n",
       "School                     8893\n",
       "Trade: type 7              7831\n",
       "Kindergarten               6880\n",
       "Construction               6721\n",
       "Business Entity Type 1     5984\n",
       "Transport: type 4          5398\n",
       "Trade: type 3              3492\n",
       "Industry: type 9           3368\n",
       "Industry: type 3           3278\n",
       "Security                   3247\n",
       "Housing                    2958\n",
       "Industry: type 11          2704\n",
       "Military                   2634\n",
       "Bank                       2507\n",
       "Agriculture                2454\n",
       "Police                     2341\n",
       "Transport: type 2          2204\n",
       "Postal                     2157\n",
       "Security Ministries        1974\n",
       "Trade: type 2              1900\n",
       "Restaurant                 1811\n",
       "Services                   1575\n",
       "University                 1327\n",
       "Industry: type 7           1307\n",
       "Transport: type 3          1187\n",
       "Industry: type 1           1039\n",
       "Hotel                       966\n",
       "Electricity                 950\n",
       "Industry: type 4            877\n",
       "Trade: type 6               631\n",
       "Industry: type 5            599\n",
       "Insurance                   597\n",
       "Telecom                     577\n",
       "Emergency                   560\n",
       "Industry: type 2            458\n",
       "Advertising                 429\n",
       "Realtor                     396\n",
       "Culture                     379\n",
       "Industry: type 12           369\n",
       "Trade: type 1               348\n",
       "Mobile                      317\n",
       "Legal Services              305\n",
       "Cleaning                    260\n",
       "Transport: type 1           201\n",
       "Industry: type 6            112\n",
       "Industry: type 10           109\n",
       "Religion                     85\n",
       "Industry: type 13            67\n",
       "Trade: type 4                64\n",
       "Trade: type 5                49\n",
       "Industry: type 8             24\n",
       "Name: count, dtype: int64"
      ]
     },
     "execution_count": 528,
     "metadata": {},
     "output_type": "execute_result"
    }
   ],
   "source": [
    "# Now checking ORGANIZATION_TYPE \n",
    "applications.ORGANIZATION_TYPE.value_counts()"
   ]
  },
  {
   "cell_type": "markdown",
   "id": "f4f76f22-038b-4757-9065-8d20037febc2",
   "metadata": {},
   "source": [
    "# Creating Bins for the 'AMT_INCOME_TOTAL' and 'AMT_CREDIT'"
   ]
  },
  {
   "cell_type": "code",
   "execution_count": 533,
   "id": "3730b130-419c-4467-a60d-bd5f26d10742",
   "metadata": {},
   "outputs": [],
   "source": [
    "bins_income = [\n",
    "    0, 25000, 50000, 75000, 100000, 125000, 150000, 175000, 200000, 225000, 250000,\n",
    "    275000, 300000, 325000, 350000, 375000, 400000, 425000, 450000, 450800, 475000, 500000]\n",
    "\n",
    "slot_income = [\n",
    "    '0-25000', '25000-50000', '50000-75000', '75000-100000', '100000-125000', '125000-150000',\n",
    "    '150000-175000', '175000-200000', '200000-225000', '225000-250000', '250000-275000',\n",
    "    '275000-300000', '300000-325000', '325000-350000', '350000-375000', '375000-400000',\n",
    "    '400000-425000', '425000-450000', '450000-450800', '450800-475000', '475000-500000']\n",
    "\n",
    "applications['AMT_INCOME_RANGE'] = pd.cut(\n",
    "    applications['AMT_INCOME_TOTAL'], bins=bins_income, labels=slot_income, right=False)"
   ]
  },
  {
   "cell_type": "markdown",
   "id": "d936a37a-3b63-4388-96a5-321a35dcdbf5",
   "metadata": {},
   "source": [
    "# Checking For the Imbalance Ratio"
   ]
  },
  {
   "cell_type": "code",
   "execution_count": 536,
   "id": "12c72e88-dfd8-41fa-b9cd-505a7cefdf03",
   "metadata": {},
   "outputs": [
    {
     "data": {
      "text/plain": [
       "TARGET\n",
       "0    230302\n",
       "1     21835\n",
       "Name: count, dtype: int64"
      ]
     },
     "execution_count": 536,
     "metadata": {},
     "output_type": "execute_result"
    }
   ],
   "source": [
    "# Having a look at the Target Data \n",
    "applications.TARGET.value_counts()"
   ]
  },
  {
   "cell_type": "markdown",
   "id": "b02453a6-7342-408d-92a9-a236d865449a",
   "metadata": {},
   "source": [
    "- Here 'TARGET = 0 ' means the people those who are non-defaulters \n",
    "- and, 'TARGET = 1' means the people those who are defaulters"
   ]
  },
  {
   "cell_type": "code",
   "execution_count": 541,
   "id": "60fab660-081e-413b-84bf-c76c140f6d0a",
   "metadata": {},
   "outputs": [
    {
     "name": "stderr",
     "output_type": "stream",
     "text": [
      "C:\\Users\\prana\\AppData\\Local\\Temp\\ipykernel_16160\\1585290663.py:4: FutureWarning: \n",
      "\n",
      "Passing `palette` without assigning `hue` is deprecated and will be removed in v0.14.0. Assign the `x` variable to `hue` and set `legend=False` for the same effect.\n",
      "\n",
      "  sns.barplot(\n"
     ]
    },
    {
     "data": {
      "text/plain": [
       "Text(0, 0.5, 'Count')"
      ]
     },
     "execution_count": 541,
     "metadata": {},
     "output_type": "execute_result"
    },
    {
     "data": {
      "image/png": "[encoded data removed]",
      "text/plain": [
       "<Figure size 640x480 with 1 Axes>"
      ]
     },
     "metadata": {},
     "output_type": "display_data"
    }
   ],
   "source": [
    "# Plotting for the Targets \n",
    "\n",
    "# Use Seaborn's barplot for horizontal bars along the x-axis\n",
    "sns.barplot(\n",
    "    x=applications['TARGET'].value_counts().index,\n",
    "    y=applications['TARGET'].value_counts().values,\n",
    "    palette='Greens')\n",
    "\n",
    "# Add title and labels\n",
    "plt.title('Targets (0 & 1)\\n', fontsize=20)\n",
    "plt.xlabel('Target', fontsize=20)\n",
    "plt.ylabel('Count', fontsize=20)"
   ]
  },
  {
   "cell_type": "code",
   "execution_count": 543,
   "id": "bc94ab32-34cc-4921-a578-4ea466555937",
   "metadata": {},
   "outputs": [
    {
     "data": {
      "text/plain": [
       "10.55"
      ]
     },
     "execution_count": 543,
     "metadata": {},
     "output_type": "execute_result"
    }
   ],
   "source": [
    "# Checking the imbalance ratio for the Target column\n",
    "target_0 = applications.loc[applications[\"TARGET\"] == 0]\n",
    "target_1 = applications. loc[applications[ \"TARGET\" ] == 1]\n",
    "round(len(target_0)/len(target_1),2) "
   ]
  },
  {
   "cell_type": "markdown",
   "id": "02727310-87db-4d6b-a25b-e937621c0a61",
   "metadata": {},
   "source": [
    "# Univariate Analysis "
   ]
  },
  {
   "cell_type": "markdown",
   "id": "abc99d15-c01c-40dd-a134-27c3d40ab520",
   "metadata": {},
   "source": [
    "#### plotting a bar chart for those having difficulty in repaying the loan i.e the Target = 0 people"
   ]
  },
  {
   "cell_type": "code",
   "execution_count": 547,
   "id": "378e15dd-fb9d-4a82-ad02-894999f57d4a",
   "metadata": {},
   "outputs": [
    {
     "data": {
      "image/png": "[encoded data removed]",
      "text/plain": [
       "<Figure size 1500x700 with 1 Axes>"
      ]
     },
     "metadata": {},
     "output_type": "display_data"
    }
   ],
   "source": [
    "# Plotting for Income Range across various Gender.\n",
    "plt.figure(figsize=[15,7])\n",
    "sns.set_style('whitegrid')\n",
    "sns.countplot(data=target_0, x='AMT_INCOME_RANGE', hue='CODE_GENDER', palette='Blues')\n",
    "plt.xticks(rotation=90)\n",
    "plt. title('Distribution of Income Range \\n', fontsize=25)\n",
    "plt.xlabel('Income Range', fontsize=20)\n",
    "plt.ylabel('Count', fontsize=20)\n",
    "plt.yscale('log')\n",
    "plt.show()"
   ]
  },
  {
   "cell_type": "markdown",
   "id": "0a64f29c-ac58-4b45-badd-c9987ab0cdab",
   "metadata": {},
   "source": [
    "# Conclusions From the Graph : \n",
    "- income Range from 125000 to 150000 is having more number of Credits\n",
    "- Very Less Counts From Range 40800 to 475000\n",
    "- it seems that the females are more than male in having cfor range 12500 to 325000"
   ]
  },
  {
   "cell_type": "code",
   "execution_count": 561,
   "id": "faa04e52-0f5f-45ae-ae21-b54396dd1cf8",
   "metadata": {},
   "outputs": [
    {
     "data": {
      "image/png": "[encoded data removed]",
      "text/plain": [
       "<Figure size 1500x700 with 1 Axes>"
      ]
     },
     "metadata": {},
     "output_type": "display_data"
    }
   ],
   "source": [
    "# Plotting for the various Income types across various Gender.\n",
    "\n",
    "plt.figure(figsize=[15,7])\n",
    "\n",
    "\n",
    "sns.countplot(data=target_0, x='NAME_INCOME_TYPE', hue='CODE_GENDER', palette='copper')\n",
    "\n",
    "plt.xticks(rotation=45)\n",
    "plt.title('Distribution of Income Type \\n')\n",
    "plt.xlabel('Income Type')\n",
    "plt.ylabel('Count')\n",
    "plt.yscale('log')\n",
    "\n",
    "plt.show()"
   ]
  },
  {
   "cell_type": "markdown",
   "id": "4ad7b084-96d4-48bd-8945-9634e6cebf3d",
   "metadata": {},
   "source": [
    "# Conclusion from the graph:\n",
    "\n",
    "1. It seems that working women have most credit than others.\n",
    "2. It seems that 'State Servant',\"Working' and 'Commercial Associate'have more credit counts compared to others.\n",
    "3. It seems Women in 'Maternity leave' has less credit in comparison to others."
   ]
  },
  {
   "cell_type": "code",
   "execution_count": 555,
   "id": "9f1da49b-0a20-43f7-851f-aaa9fe84ba5f",
   "metadata": {},
   "outputs": [
    {
     "data": {
      "image/png": "[encoded data removed]",
      "text/plain": [
       "<Figure size 1500x700 with 1 Axes>"
      ]
     },
     "metadata": {},
     "output_type": "display_data"
    }
   ],
   "source": [
    "# Plotting for the Contract type across various Genders.\n",
    "\n",
    "plt.figure(figsize=[15,7])\n",
    "sns.set_style('whitegrid')\n",
    "\n",
    "sns.countplot(data=target_0, x='NAME_CONTRACT_TYPE', hue='CODE_GENDER', palette='Set2')\n",
    "\n",
    "plt.xticks(rotation=45)\n",
    "plt.title('Distribution of Contract Type \\n')\n",
    "plt.xlabel('Contract Type')\n",
    "plt.ylabel('Count')\n",
    "plt.yscale('log')\n",
    "\n",
    "plt.show()"
   ]
  },
  {
   "cell_type": "markdown",
   "id": "ea1cf0af-2d92-4761-8350-89f32c92d837",
   "metadata": {},
   "source": [
    "# Conclusion from the graph:\n",
    "\n",
    "1. It seems that cash loans' is having higher number of credits than 'Revolving loans\" contract type.\n",
    "2. Also, female applies more for Credit."
   ]
  },
  {
   "cell_type": "markdown",
   "id": "137dc6e3-aabb-42d9-9edc-4d104f653c8c",
   "metadata": {},
   "source": [
    "# Plotting For Those having difficulty in repaying the loan i.e TARGET 1 People "
   ]
  },
  {
   "cell_type": "code",
   "execution_count": 651,
   "id": "c3b20c7c-5796-4eb8-9ec0-b8ba40ea0211",
   "metadata": {},
   "outputs": [
    {
     "data": {
      "image/png": "[encoded data removed]",
      "text/plain": [
       "<Figure size 1500x700 with 1 Axes>"
      ]
     },
     "metadata": {},
     "output_type": "display_data"
    }
   ],
   "source": [
    "# Plotting for Income Range across various Gender.\n",
    "\n",
    "plt.figure(figsize=[15,7])\n",
    "sns.set_style('whitegrid')\n",
    "\n",
    "sns.countplot(data=target_1, x='AMT_INCOME_RANGE', hue='CODE_GENDER', palette='Blues')\n",
    "\n",
    "plt.xticks(rotation=90)\n",
    "plt.title('Distribution of Income Range \\n', fontsize=25)\n",
    "plt.xlabel('Income Range', fontsize=20)\n",
    "plt.ylabel('Count', fontsize=20)\n",
    "plt.yscale('log')\n",
    "\n",
    "plt.show()"
   ]
  },
  {
   "cell_type": "markdown",
   "id": "f29dc759-2f5d-46c9-83f5-1fe165d15c86",
   "metadata": {},
   "source": [
    "# Conclusions from the graph:\n",
    "\n",
    "1. Male Counts are higher.\n",
    "2. Income range from 100000 to 200000 is having more number of credits.\n",
    "3. Less count for income range 450000-475000."
   ]
  },
  {
   "cell_type": "code",
   "execution_count": 653,
   "id": "eb9f4de2-cb8e-430a-814e-afe65ef63ea4",
   "metadata": {},
   "outputs": [
    {
     "data": {
      "image/png": "[encoded data removed]",
      "text/plain": [
       "<Figure size 1500x700 with 1 Axes>"
      ]
     },
     "metadata": {},
     "output_type": "display_data"
    }
   ],
   "source": [
    "# Plotting for the various Income types across various Gender.\n",
    "\n",
    "plt.figure(figsize=[15,7])\n",
    "sns.set_style('whitegrid')\n",
    "\n",
    "sns.countplot(data=target_1, x='NAME_INCOME_TYPE', hue='CODE_GENDER', palette='copper')\n",
    "\n",
    "plt.title('Distribution of Income Type \\n', fontsize=25)\n",
    "plt.xlabel('Income Type', fontsize=20)\n",
    "plt.ylabel('Count', fontsize=20)\n",
    "plt.yscale('log')\n",
    "\n",
    "plt.show()"
   ]
  },
  {
   "cell_type": "markdown",
   "id": "9333da74-042c-4d0d-8f98-2ca3da1b36d4",
   "metadata": {},
   "source": [
    "# Conclusions from the graph:\n",
    "\n",
    "1. For income type 'working', 'commercial associate\", and 'State Servant' the number of credits are higher than other i.e. 'Maternity leave.\n",
    "2. For this Females are having more number of credits than male.\n",
    "3. Less number of credits for income type 'Matemity leave'."
   ]
  },
  {
   "cell_type": "markdown",
   "id": "b409b90a-e272-4a3f-9ebb-6fa53f5d4bbd",
   "metadata": {},
   "source": [
    "# Bivariate Analysis of the numerical columns"
   ]
  },
  {
   "cell_type": "code",
   "execution_count": 655,
   "id": "7e50d6db-71b1-431c-b016-8751189f4c8a",
   "metadata": {},
   "outputs": [
    {
     "data": {
      "image/png": "[encoded data removed]",
      "text/plain": [
       "<Figure size 1600x800 with 2 Axes>"
      ]
     },
     "metadata": {},
     "output_type": "display_data"
    }
   ],
   "source": [
    "# Plotting scatterplot to find any correlations and to check the trends in the dataset, in logs,\n",
    "\n",
    "plt.figure(figsize=[16, 8])\n",
    "\n",
    "# Plot for Target-0\n",
    "plt.subplot(1, 2, 1)\n",
    "sns.scatterplot(x=target_0['AMT_CREDIT'], y=target_0['AMT_INCOME_TOTAL'])\n",
    "plt.title('Income vs Credit for Target-0 \\n', fontsize=20)\n",
    "plt.yscale('log')\n",
    "plt.xlabel('Credit', fontsize=15)\n",
    "plt.ylabel('Income', fontsize=15)\n",
    "\n",
    "# Plot for Target-1\n",
    "plt.subplot(1, 2, 2)\n",
    "sns.scatterplot(x=target_1['AMT_CREDIT'], y=target_1['AMT_INCOME_TOTAL'])\n",
    "plt.title('Income vs Credit for Target-1 \\n', fontsize=20)\n",
    "plt.yscale('log')\n",
    "plt.xlabel('Credit', fontsize=15)\n",
    "plt.ylabel('Income', fontsize=15)\n",
    "\n",
    "# Display the plots\n",
    "plt.tight_layout()\n",
    "plt.show()\n"
   ]
  },
  {
   "cell_type": "markdown",
   "id": "ed1ec61f-d89a-4f4d-96de-af896e117fe7",
   "metadata": {},
   "source": [
    "# Conclusions from the graph:\n",
    "- With the scatter plot,we can determine that AMT CREDIT and AMT GOODS PRICE are highly correlated,which means\n",
    "if increase in goods price,the credit increased directly and vice versa."
   ]
  },
  {
   "cell_type": "code",
   "execution_count": 635,
   "id": "49713411-9c7a-4f00-8fc2-260df16eed79",
   "metadata": {
    "scrolled": true
   },
   "outputs": [
    {
     "data": {
      "image/png": "[encoded data removed]",
      "text/plain": [
       "<Figure size 800x600 with 1 Axes>"
      ]
     },
     "metadata": {},
     "output_type": "display_data"
    }
   ],
   "source": [
    "# Count Plot: NAME_CONTRACT_TYPE\n",
    "plt.figure(figsize=(8,6))\n",
    "sns.countplot(x='NAME_CONTRACT_TYPE', data=df1)\n",
    "plt.title(\"Count of Contracts by Type\")\n",
    "plt.show()"
   ]
  },
  {
   "cell_type": "markdown",
   "id": "2e1b358c-eea0-4769-aff3-fd9c4305f476",
   "metadata": {},
   "source": [
    "# Conclusion"
   ]
  },
  {
   "cell_type": "markdown",
   "id": "8bd24a69-ed50-4166-b964-00add5cfa618",
   "metadata": {},
   "source": [
    "- Gender Insights: Female customers have a lower default rate compared to males, and they are more likely to take loans in the given credit range.\n",
    "\n",
    "- Safer Customer Segments: Safer groups for loans include individuals who are employed (working professionals, commercial associates, pensioners, and state servants), those with higher or secondary education, married individuals, and those owning houses or apartments.\n",
    "\n",
    "- Risky Segments: Unemployed individuals, those on maternity leave, drivers, and low-skill laborers are more likely to default. Customers taking cash loans also show a higher likelihood of default.\n",
    "\n",
    "- Loan Repayment Trends: Unaccompanied individuals and families have taken and successfully repaid the most loans, with most loans being in the range of 0 to 1 million and annuities paid between 0 to 1 lakh.\n"
   ]
  },
  {
   "cell_type": "code",
   "execution_count": null,
   "id": "a33a883c-f4ba-4eb8-a346-5934ed7cb761",
   "metadata": {},
   "outputs": [],
   "source": []
  }
 ],
 "metadata": {
  "kernelspec": {
   "display_name": "Python 3 (ipykernel)",
   "language": "python",
   "name": "python3"
  },
  "language_info": {
   "codemirror_mode": {
    "name": "ipython",
    "version": 3
   },
   "file_extension": ".py",
   "mimetype": "text/x-python",
   "name": "python",
   "nbconvert_exporter": "python",
   "pygments_lexer": "ipython3",
   "version": "3.12.7"
  }
 },
 "nbformat": 4,
 "nbformat_minor": 5
}
